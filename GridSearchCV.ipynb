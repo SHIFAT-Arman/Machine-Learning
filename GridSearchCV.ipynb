{
  "nbformat": 4,
  "nbformat_minor": 0,
  "metadata": {
    "colab": {
      "provenance": [],
      "toc_visible": true,
      "authorship_tag": "ABX9TyMhvowFNCy1tZX8wLFogUI6",
      "include_colab_link": true
    },
    "kernelspec": {
      "name": "python3",
      "display_name": "Python 3"
    },
    "language_info": {
      "name": "python"
    }
  },
  "cells": [
    {
      "cell_type": "markdown",
      "metadata": {
        "id": "view-in-github",
        "colab_type": "text"
      },
      "source": [
        "<a href=\"https://colab.research.google.com/github/SHIFAT-Arman/Machine-Learning/blob/main/GridSearchCV.ipynb\" target=\"_parent\"><img src=\"https://colab.research.google.com/assets/colab-badge.svg\" alt=\"Open In Colab\"/></a>"
      ]
    },
    {
      "cell_type": "code",
      "execution_count": 37,
      "metadata": {
        "id": "tQg5VCFjM00m"
      },
      "outputs": [],
      "source": [
        "import numpy as np\n",
        "import pandas as pd\n",
        "import matplotlib.pyplot as plt\n",
        "from sklearn.model_selection import train_test_split\n",
        "import sklearn.metrics as metrics\n",
        "from sklearn.linear_model import Ridge, Lasso, ElasticNet\n",
        "from sklearn.model_selection import GridSearchCV"
      ]
    },
    {
      "cell_type": "code",
      "source": [
        "data = pd.read_csv('Regression_Data.csv')"
      ],
      "metadata": {
        "id": "AZ2AzbN3Nrna"
      },
      "execution_count": 3,
      "outputs": []
    },
    {
      "cell_type": "code",
      "source": [
        "data.head()"
      ],
      "metadata": {
        "colab": {
          "base_uri": "https://localhost:8080/",
          "height": 206
        },
        "id": "2iOm-6F5N8Gc",
        "outputId": "f220ecfe-92f0-429c-dd5e-92c6ec035727"
      },
      "execution_count": 5,
      "outputs": [
        {
          "output_type": "execute_result",
          "data": {
            "text/plain": [
              "   Ind_Data  Dependent_Data\n",
              "0       1.1           39343\n",
              "1       1.3           46205\n",
              "2       1.5           37731\n",
              "3       2.0           43525\n",
              "4       2.2           39891"
            ],
            "text/html": [
              "\n",
              "  <div id=\"df-6497a218-fdab-458a-a344-2bb758332327\" class=\"colab-df-container\">\n",
              "    <div>\n",
              "<style scoped>\n",
              "    .dataframe tbody tr th:only-of-type {\n",
              "        vertical-align: middle;\n",
              "    }\n",
              "\n",
              "    .dataframe tbody tr th {\n",
              "        vertical-align: top;\n",
              "    }\n",
              "\n",
              "    .dataframe thead th {\n",
              "        text-align: right;\n",
              "    }\n",
              "</style>\n",
              "<table border=\"1\" class=\"dataframe\">\n",
              "  <thead>\n",
              "    <tr style=\"text-align: right;\">\n",
              "      <th></th>\n",
              "      <th>Ind_Data</th>\n",
              "      <th>Dependent_Data</th>\n",
              "    </tr>\n",
              "  </thead>\n",
              "  <tbody>\n",
              "    <tr>\n",
              "      <th>0</th>\n",
              "      <td>1.1</td>\n",
              "      <td>39343</td>\n",
              "    </tr>\n",
              "    <tr>\n",
              "      <th>1</th>\n",
              "      <td>1.3</td>\n",
              "      <td>46205</td>\n",
              "    </tr>\n",
              "    <tr>\n",
              "      <th>2</th>\n",
              "      <td>1.5</td>\n",
              "      <td>37731</td>\n",
              "    </tr>\n",
              "    <tr>\n",
              "      <th>3</th>\n",
              "      <td>2.0</td>\n",
              "      <td>43525</td>\n",
              "    </tr>\n",
              "    <tr>\n",
              "      <th>4</th>\n",
              "      <td>2.2</td>\n",
              "      <td>39891</td>\n",
              "    </tr>\n",
              "  </tbody>\n",
              "</table>\n",
              "</div>\n",
              "    <div class=\"colab-df-buttons\">\n",
              "\n",
              "  <div class=\"colab-df-container\">\n",
              "    <button class=\"colab-df-convert\" onclick=\"convertToInteractive('df-6497a218-fdab-458a-a344-2bb758332327')\"\n",
              "            title=\"Convert this dataframe to an interactive table.\"\n",
              "            style=\"display:none;\">\n",
              "\n",
              "  <svg xmlns=\"http://www.w3.org/2000/svg\" height=\"24px\" viewBox=\"0 -960 960 960\">\n",
              "    <path d=\"M120-120v-720h720v720H120Zm60-500h600v-160H180v160Zm220 220h160v-160H400v160Zm0 220h160v-160H400v160ZM180-400h160v-160H180v160Zm440 0h160v-160H620v160ZM180-180h160v-160H180v160Zm440 0h160v-160H620v160Z\"/>\n",
              "  </svg>\n",
              "    </button>\n",
              "\n",
              "  <style>\n",
              "    .colab-df-container {\n",
              "      display:flex;\n",
              "      gap: 12px;\n",
              "    }\n",
              "\n",
              "    .colab-df-convert {\n",
              "      background-color: #E8F0FE;\n",
              "      border: none;\n",
              "      border-radius: 50%;\n",
              "      cursor: pointer;\n",
              "      display: none;\n",
              "      fill: #1967D2;\n",
              "      height: 32px;\n",
              "      padding: 0 0 0 0;\n",
              "      width: 32px;\n",
              "    }\n",
              "\n",
              "    .colab-df-convert:hover {\n",
              "      background-color: #E2EBFA;\n",
              "      box-shadow: 0px 1px 2px rgba(60, 64, 67, 0.3), 0px 1px 3px 1px rgba(60, 64, 67, 0.15);\n",
              "      fill: #174EA6;\n",
              "    }\n",
              "\n",
              "    .colab-df-buttons div {\n",
              "      margin-bottom: 4px;\n",
              "    }\n",
              "\n",
              "    [theme=dark] .colab-df-convert {\n",
              "      background-color: #3B4455;\n",
              "      fill: #D2E3FC;\n",
              "    }\n",
              "\n",
              "    [theme=dark] .colab-df-convert:hover {\n",
              "      background-color: #434B5C;\n",
              "      box-shadow: 0px 1px 3px 1px rgba(0, 0, 0, 0.15);\n",
              "      filter: drop-shadow(0px 1px 2px rgba(0, 0, 0, 0.3));\n",
              "      fill: #FFFFFF;\n",
              "    }\n",
              "  </style>\n",
              "\n",
              "    <script>\n",
              "      const buttonEl =\n",
              "        document.querySelector('#df-6497a218-fdab-458a-a344-2bb758332327 button.colab-df-convert');\n",
              "      buttonEl.style.display =\n",
              "        google.colab.kernel.accessAllowed ? 'block' : 'none';\n",
              "\n",
              "      async function convertToInteractive(key) {\n",
              "        const element = document.querySelector('#df-6497a218-fdab-458a-a344-2bb758332327');\n",
              "        const dataTable =\n",
              "          await google.colab.kernel.invokeFunction('convertToInteractive',\n",
              "                                                    [key], {});\n",
              "        if (!dataTable) return;\n",
              "\n",
              "        const docLinkHtml = 'Like what you see? Visit the ' +\n",
              "          '<a target=\"_blank\" href=https://colab.research.google.com/notebooks/data_table.ipynb>data table notebook</a>'\n",
              "          + ' to learn more about interactive tables.';\n",
              "        element.innerHTML = '';\n",
              "        dataTable['output_type'] = 'display_data';\n",
              "        await google.colab.output.renderOutput(dataTable, element);\n",
              "        const docLink = document.createElement('div');\n",
              "        docLink.innerHTML = docLinkHtml;\n",
              "        element.appendChild(docLink);\n",
              "      }\n",
              "    </script>\n",
              "  </div>\n",
              "\n",
              "\n",
              "    <div id=\"df-191afee1-4bfd-4313-b9ac-b6c83211c2d2\">\n",
              "      <button class=\"colab-df-quickchart\" onclick=\"quickchart('df-191afee1-4bfd-4313-b9ac-b6c83211c2d2')\"\n",
              "                title=\"Suggest charts\"\n",
              "                style=\"display:none;\">\n",
              "\n",
              "<svg xmlns=\"http://www.w3.org/2000/svg\" height=\"24px\"viewBox=\"0 0 24 24\"\n",
              "     width=\"24px\">\n",
              "    <g>\n",
              "        <path d=\"M19 3H5c-1.1 0-2 .9-2 2v14c0 1.1.9 2 2 2h14c1.1 0 2-.9 2-2V5c0-1.1-.9-2-2-2zM9 17H7v-7h2v7zm4 0h-2V7h2v10zm4 0h-2v-4h2v4z\"/>\n",
              "    </g>\n",
              "</svg>\n",
              "      </button>\n",
              "\n",
              "<style>\n",
              "  .colab-df-quickchart {\n",
              "      --bg-color: #E8F0FE;\n",
              "      --fill-color: #1967D2;\n",
              "      --hover-bg-color: #E2EBFA;\n",
              "      --hover-fill-color: #174EA6;\n",
              "      --disabled-fill-color: #AAA;\n",
              "      --disabled-bg-color: #DDD;\n",
              "  }\n",
              "\n",
              "  [theme=dark] .colab-df-quickchart {\n",
              "      --bg-color: #3B4455;\n",
              "      --fill-color: #D2E3FC;\n",
              "      --hover-bg-color: #434B5C;\n",
              "      --hover-fill-color: #FFFFFF;\n",
              "      --disabled-bg-color: #3B4455;\n",
              "      --disabled-fill-color: #666;\n",
              "  }\n",
              "\n",
              "  .colab-df-quickchart {\n",
              "    background-color: var(--bg-color);\n",
              "    border: none;\n",
              "    border-radius: 50%;\n",
              "    cursor: pointer;\n",
              "    display: none;\n",
              "    fill: var(--fill-color);\n",
              "    height: 32px;\n",
              "    padding: 0;\n",
              "    width: 32px;\n",
              "  }\n",
              "\n",
              "  .colab-df-quickchart:hover {\n",
              "    background-color: var(--hover-bg-color);\n",
              "    box-shadow: 0 1px 2px rgba(60, 64, 67, 0.3), 0 1px 3px 1px rgba(60, 64, 67, 0.15);\n",
              "    fill: var(--button-hover-fill-color);\n",
              "  }\n",
              "\n",
              "  .colab-df-quickchart-complete:disabled,\n",
              "  .colab-df-quickchart-complete:disabled:hover {\n",
              "    background-color: var(--disabled-bg-color);\n",
              "    fill: var(--disabled-fill-color);\n",
              "    box-shadow: none;\n",
              "  }\n",
              "\n",
              "  .colab-df-spinner {\n",
              "    border: 2px solid var(--fill-color);\n",
              "    border-color: transparent;\n",
              "    border-bottom-color: var(--fill-color);\n",
              "    animation:\n",
              "      spin 1s steps(1) infinite;\n",
              "  }\n",
              "\n",
              "  @keyframes spin {\n",
              "    0% {\n",
              "      border-color: transparent;\n",
              "      border-bottom-color: var(--fill-color);\n",
              "      border-left-color: var(--fill-color);\n",
              "    }\n",
              "    20% {\n",
              "      border-color: transparent;\n",
              "      border-left-color: var(--fill-color);\n",
              "      border-top-color: var(--fill-color);\n",
              "    }\n",
              "    30% {\n",
              "      border-color: transparent;\n",
              "      border-left-color: var(--fill-color);\n",
              "      border-top-color: var(--fill-color);\n",
              "      border-right-color: var(--fill-color);\n",
              "    }\n",
              "    40% {\n",
              "      border-color: transparent;\n",
              "      border-right-color: var(--fill-color);\n",
              "      border-top-color: var(--fill-color);\n",
              "    }\n",
              "    60% {\n",
              "      border-color: transparent;\n",
              "      border-right-color: var(--fill-color);\n",
              "    }\n",
              "    80% {\n",
              "      border-color: transparent;\n",
              "      border-right-color: var(--fill-color);\n",
              "      border-bottom-color: var(--fill-color);\n",
              "    }\n",
              "    90% {\n",
              "      border-color: transparent;\n",
              "      border-bottom-color: var(--fill-color);\n",
              "    }\n",
              "  }\n",
              "</style>\n",
              "\n",
              "      <script>\n",
              "        async function quickchart(key) {\n",
              "          const quickchartButtonEl =\n",
              "            document.querySelector('#' + key + ' button');\n",
              "          quickchartButtonEl.disabled = true;  // To prevent multiple clicks.\n",
              "          quickchartButtonEl.classList.add('colab-df-spinner');\n",
              "          try {\n",
              "            const charts = await google.colab.kernel.invokeFunction(\n",
              "                'suggestCharts', [key], {});\n",
              "          } catch (error) {\n",
              "            console.error('Error during call to suggestCharts:', error);\n",
              "          }\n",
              "          quickchartButtonEl.classList.remove('colab-df-spinner');\n",
              "          quickchartButtonEl.classList.add('colab-df-quickchart-complete');\n",
              "        }\n",
              "        (() => {\n",
              "          let quickchartButtonEl =\n",
              "            document.querySelector('#df-191afee1-4bfd-4313-b9ac-b6c83211c2d2 button');\n",
              "          quickchartButtonEl.style.display =\n",
              "            google.colab.kernel.accessAllowed ? 'block' : 'none';\n",
              "        })();\n",
              "      </script>\n",
              "    </div>\n",
              "\n",
              "    </div>\n",
              "  </div>\n"
            ],
            "application/vnd.google.colaboratory.intrinsic+json": {
              "type": "dataframe",
              "variable_name": "data",
              "summary": "{\n  \"name\": \"data\",\n  \"rows\": 30,\n  \"fields\": [\n    {\n      \"column\": \"Ind_Data\",\n      \"properties\": {\n        \"dtype\": \"number\",\n        \"std\": 2.8378881576627184,\n        \"min\": 1.1,\n        \"max\": 10.5,\n        \"num_unique_values\": 28,\n        \"samples\": [\n          3.9,\n          9.6,\n          3.7\n        ],\n        \"semantic_type\": \"\",\n        \"description\": \"\"\n      }\n    },\n    {\n      \"column\": \"Dependent_Data\",\n      \"properties\": {\n        \"dtype\": \"number\",\n        \"std\": 27414,\n        \"min\": 37731,\n        \"max\": 122391,\n        \"num_unique_values\": 30,\n        \"samples\": [\n          112635,\n          67938,\n          113812\n        ],\n        \"semantic_type\": \"\",\n        \"description\": \"\"\n      }\n    }\n  ]\n}"
            }
          },
          "metadata": {},
          "execution_count": 5
        }
      ]
    },
    {
      "cell_type": "code",
      "source": [
        "X = data.iloc[:,:-1].values\n",
        "y = data.iloc[:,-1].values"
      ],
      "metadata": {
        "id": "sXY8PcnTN83m"
      },
      "execution_count": 9,
      "outputs": []
    },
    {
      "cell_type": "code",
      "source": [
        "X.shape"
      ],
      "metadata": {
        "colab": {
          "base_uri": "https://localhost:8080/"
        },
        "id": "e3uVxayEPaZU",
        "outputId": "cde87f9f-db6a-4c74-fbd9-4527940b3754"
      },
      "execution_count": 10,
      "outputs": [
        {
          "output_type": "execute_result",
          "data": {
            "text/plain": [
              "(30, 1)"
            ]
          },
          "metadata": {},
          "execution_count": 10
        }
      ]
    },
    {
      "cell_type": "code",
      "source": [
        "test_data = np.linspace(1,11,30).reshape(-1,1)\n",
        "test_data"
      ],
      "metadata": {
        "colab": {
          "base_uri": "https://localhost:8080/"
        },
        "id": "hJdzk_C5Pvng",
        "outputId": "723bb245-9d00-4683-d6fa-c8e3d3eb1eb9"
      },
      "execution_count": 11,
      "outputs": [
        {
          "output_type": "execute_result",
          "data": {
            "text/plain": [
              "array([[ 1.        ],\n",
              "       [ 1.34482759],\n",
              "       [ 1.68965517],\n",
              "       [ 2.03448276],\n",
              "       [ 2.37931034],\n",
              "       [ 2.72413793],\n",
              "       [ 3.06896552],\n",
              "       [ 3.4137931 ],\n",
              "       [ 3.75862069],\n",
              "       [ 4.10344828],\n",
              "       [ 4.44827586],\n",
              "       [ 4.79310345],\n",
              "       [ 5.13793103],\n",
              "       [ 5.48275862],\n",
              "       [ 5.82758621],\n",
              "       [ 6.17241379],\n",
              "       [ 6.51724138],\n",
              "       [ 6.86206897],\n",
              "       [ 7.20689655],\n",
              "       [ 7.55172414],\n",
              "       [ 7.89655172],\n",
              "       [ 8.24137931],\n",
              "       [ 8.5862069 ],\n",
              "       [ 8.93103448],\n",
              "       [ 9.27586207],\n",
              "       [ 9.62068966],\n",
              "       [ 9.96551724],\n",
              "       [10.31034483],\n",
              "       [10.65517241],\n",
              "       [11.        ]])"
            ]
          },
          "metadata": {},
          "execution_count": 11
        }
      ]
    },
    {
      "cell_type": "code",
      "source": [
        "test_labels = y"
      ],
      "metadata": {
        "id": "sJvQ-RdhQaOb"
      },
      "execution_count": 15,
      "outputs": []
    },
    {
      "cell_type": "markdown",
      "source": [
        "## Applying Ridge Regression"
      ],
      "metadata": {
        "id": "ZU7MwYS0REea"
      }
    },
    {
      "cell_type": "code",
      "source": [
        "ridge = Ridge()"
      ],
      "metadata": {
        "id": "OYNbits3P7dk"
      },
      "execution_count": 12,
      "outputs": []
    },
    {
      "cell_type": "code",
      "source": [
        "RR = ridge.fit(X,y)"
      ],
      "metadata": {
        "id": "4IbXax2fQBsY"
      },
      "execution_count": 13,
      "outputs": []
    },
    {
      "cell_type": "code",
      "source": [
        "y_pred = RR.predict(test_data)"
      ],
      "metadata": {
        "id": "aZAxkQghQIBC"
      },
      "execution_count": 14,
      "outputs": []
    },
    {
      "cell_type": "code",
      "source": [
        "print(f\"RMSE: {np.sqrt(metrics.mean_squared_error(test_labels,y_pred))}\")\n",
        "print(f\"MAE: {metrics.mean_absolute_error(test_labels,y_pred)}\")\n",
        "print(f\"R2:{metrics.r2_score(test_labels, y_pred)}\")"
      ],
      "metadata": {
        "colab": {
          "base_uri": "https://localhost:8080/"
        },
        "id": "YLFP9o4sQME9",
        "outputId": "0e2ca021-7271-47ae-ffc3-c4c63b38eb98"
      },
      "execution_count": 18,
      "outputs": [
        {
          "output_type": "stream",
          "name": "stdout",
          "text": [
            "RMSE: 10116.077264648284\n",
            "MAE: 8366.54929243921\n",
            "R2:0.8591395413394147\n"
          ]
        }
      ]
    },
    {
      "cell_type": "markdown",
      "source": [
        "## Applying Grid Search CV on RR"
      ],
      "metadata": {
        "id": "34XJAjQXRHBi"
      }
    },
    {
      "cell_type": "code",
      "source": [
        "params_ridge = {'alpha':[10, 5, 3, 2, 1.5, 1.2, 1.1, 0.1, 0.01, 0.001, 0.0001,0], 'fit_intercept': [True, False], 'solver': ['svd','cholesky','lsqr','sparse_cg','sag','saga']}\n",
        "ridge_GS = GridSearchCV(ridge, params_ridge, n_jobs=-1, cv=5)\n",
        "RR_GSCV = ridge_GS.fit(X,y)\n"
      ],
      "metadata": {
        "id": "aanYeiV5QvWU"
      },
      "execution_count": 24,
      "outputs": []
    },
    {
      "cell_type": "code",
      "source": [
        "RR_GSCV.best_params_"
      ],
      "metadata": {
        "colab": {
          "base_uri": "https://localhost:8080/"
        },
        "id": "Mrx-1zr4RuWT",
        "outputId": "950594e2-6313-4383-c176-2bc67a96148d"
      },
      "execution_count": 25,
      "outputs": [
        {
          "output_type": "execute_result",
          "data": {
            "text/plain": [
              "{'alpha': 10, 'fit_intercept': True, 'solver': 'saga'}"
            ]
          },
          "metadata": {},
          "execution_count": 25
        }
      ]
    },
    {
      "cell_type": "markdown",
      "source": [
        "## Applying GS RR on test Data"
      ],
      "metadata": {
        "id": "q25FI5ZlSWq3"
      }
    },
    {
      "cell_type": "code",
      "source": [
        "y_pred_GS_RR = RR_GSCV.predict(test_data)"
      ],
      "metadata": {
        "id": "WEDX-X3MSZYh"
      },
      "execution_count": 26,
      "outputs": []
    },
    {
      "cell_type": "code",
      "source": [
        "print(f\"RMSE: {np.sqrt(metrics.mean_squared_error(test_labels,y_pred_GS_RR))}\")\n",
        "print(f\"MAE: {metrics.mean_absolute_error(test_labels,y_pred_GS_RR)}\")\n",
        "print(f\"R2:{metrics.r2_score(test_labels, y_pred_GS_RR)}\")"
      ],
      "metadata": {
        "colab": {
          "base_uri": "https://localhost:8080/"
        },
        "id": "xCgJs8SASdFm",
        "outputId": "89d534a0-9a2e-4785-ccf1-f77687a74fa4"
      },
      "execution_count": 27,
      "outputs": [
        {
          "output_type": "stream",
          "name": "stdout",
          "text": [
            "RMSE: 9790.540474737207\n",
            "MAE: 7872.479867784598\n",
            "R2:0.8680594904408153\n"
          ]
        }
      ]
    },
    {
      "cell_type": "markdown",
      "source": [
        "## Applying LASSO Regression"
      ],
      "metadata": {
        "id": "Xl0_w_igSqTU"
      }
    },
    {
      "cell_type": "code",
      "source": [
        "lasso = Lasso()"
      ],
      "metadata": {
        "id": "WigB9mhgSh95"
      },
      "execution_count": 29,
      "outputs": []
    },
    {
      "cell_type": "code",
      "source": [
        "lm = lasso.fit(X,y)"
      ],
      "metadata": {
        "id": "M_cpiXSTS_LE"
      },
      "execution_count": 30,
      "outputs": []
    },
    {
      "cell_type": "code",
      "source": [
        "y_pred_LM = lm.predict(test_data)"
      ],
      "metadata": {
        "id": "0xml9KgaTDuf"
      },
      "execution_count": 31,
      "outputs": []
    },
    {
      "cell_type": "code",
      "source": [
        "print(f\"RMSE: {np.sqrt(metrics.mean_squared_error(test_labels,y_pred_LM))}\")\n",
        "print(f\"MAE: {metrics.mean_absolute_error(test_labels,y_pred_LM)}\")\n",
        "print(f\"R2:{metrics.r2_score(test_labels, y_pred_LM)}\")"
      ],
      "metadata": {
        "colab": {
          "base_uri": "https://localhost:8080/"
        },
        "id": "elFLcuEVTGf7",
        "outputId": "2c689a0d-75e6-4474-b4e0-be9d474b53f8"
      },
      "execution_count": 32,
      "outputs": [
        {
          "output_type": "stream",
          "name": "stdout",
          "text": [
            "RMSE: 10160.252045393187\n",
            "MAE: 8423.71754055037\n",
            "R2:0.8579066393273116\n"
          ]
        }
      ]
    },
    {
      "cell_type": "markdown",
      "source": [
        "## Applying Grid Search Lasso Regression"
      ],
      "metadata": {
        "id": "AjN2Nba7TK2n"
      }
    },
    {
      "cell_type": "code",
      "source": [
        "params_lasso = {'alpha': [10,5, 1, 0.1, 0.01, 0.001, 0.0001, 0], 'fit_intercept': [True, False], 'max_iter': [1000, 10000, 100000, 1000000]}\n",
        "lasso_GS = GridSearchCV(lasso, params_lasso, n_jobs=-1, cv=5)\n",
        "lm_GSCV = lasso_GS.fit(X,y)"
      ],
      "metadata": {
        "id": "PpuMZNMZTKJH"
      },
      "execution_count": 33,
      "outputs": []
    },
    {
      "cell_type": "code",
      "source": [
        "lm_GSCV.best_params_"
      ],
      "metadata": {
        "colab": {
          "base_uri": "https://localhost:8080/"
        },
        "id": "uuMbc1y7T20F",
        "outputId": "b0c48363-6065-4889-b20b-5ac5af148e8f"
      },
      "execution_count": 34,
      "outputs": [
        {
          "output_type": "execute_result",
          "data": {
            "text/plain": [
              "{'alpha': 10, 'fit_intercept': True, 'max_iter': 1000}"
            ]
          },
          "metadata": {},
          "execution_count": 34
        }
      ]
    },
    {
      "cell_type": "code",
      "source": [
        "y_pred_GS_LM = lm_GSCV.predict(test_data)"
      ],
      "metadata": {
        "id": "0rEq3fQ2T7BX"
      },
      "execution_count": 35,
      "outputs": []
    },
    {
      "cell_type": "code",
      "source": [
        "print(f\"RMSE: {np.sqrt(metrics.mean_squared_error(test_labels,y_pred_GS_LM))}\")\n",
        "print(f\"MAE: {metrics.mean_absolute_error(test_labels,y_pred_GS_LM)}\")\n",
        "print(f\"R2:{metrics.r2_score(test_labels, y_pred_GS_LM)}\")"
      ],
      "metadata": {
        "colab": {
          "base_uri": "https://localhost:8080/"
        },
        "id": "_yAv51iqUHHI",
        "outputId": "0c4ee31f-adcc-4638-9d39-9ff98839be5b"
      },
      "execution_count": 36,
      "outputs": [
        {
          "output_type": "stream",
          "name": "stdout",
          "text": [
            "RMSE: 10158.962314938803\n",
            "MAE: 8422.071915336537\n",
            "R2:0.8579427113661284\n"
          ]
        }
      ]
    },
    {
      "cell_type": "markdown",
      "source": [
        "## Elastic Net"
      ],
      "metadata": {
        "id": "sE-pzlCCUaDK"
      }
    },
    {
      "cell_type": "code",
      "source": [
        "elastic_model = ElasticNet()"
      ],
      "metadata": {
        "id": "OGl3MNDsULBW"
      },
      "execution_count": 47,
      "outputs": []
    },
    {
      "cell_type": "code",
      "source": [
        "em = elastic_model.fit(X, y)"
      ],
      "metadata": {
        "id": "FxF8s96zVgLF"
      },
      "execution_count": 48,
      "outputs": []
    },
    {
      "cell_type": "code",
      "source": [
        "y_pred_em = em.predict(test_data)"
      ],
      "metadata": {
        "id": "UyaSdRh7VnQf"
      },
      "execution_count": 49,
      "outputs": []
    },
    {
      "cell_type": "code",
      "source": [
        "print(f\"RMSE: {np.sqrt(metrics.mean_squared_error(test_labels,y_pred_em))}\")\n",
        "print(f\"MAE: {metrics.mean_absolute_error(test_labels,y_pred_em)}\")\n",
        "print(f\"R2:{metrics.r2_score(test_labels, y_pred_em)}\")"
      ],
      "metadata": {
        "colab": {
          "base_uri": "https://localhost:8080/"
        },
        "id": "wMPnQK1UVpWI",
        "outputId": "ac5fa9c5-6edf-41dd-9179-595ad3f2bc55"
      },
      "execution_count": 56,
      "outputs": [
        {
          "output_type": "stream",
          "name": "stdout",
          "text": [
            "RMSE: 9661.674956501829\n",
            "MAE: 7612.00310605522\n",
            "R2:0.8715098997590467\n"
          ]
        }
      ]
    },
    {
      "cell_type": "markdown",
      "source": [
        "## Grid Search Elastic"
      ],
      "metadata": {
        "id": "eJOMTJauVtXg"
      }
    },
    {
      "cell_type": "code",
      "source": [
        "l1_ratio = np.linspace(0,1,10).round(1)\n",
        "l1_ratio"
      ],
      "metadata": {
        "colab": {
          "base_uri": "https://localhost:8080/"
        },
        "id": "LD2C5x-oVsLP",
        "outputId": "4fae6de5-0877-47c7-a1b3-6a97b97e3668"
      },
      "execution_count": 51,
      "outputs": [
        {
          "output_type": "execute_result",
          "data": {
            "text/plain": [
              "array([0. , 0.1, 0.2, 0.3, 0.4, 0.6, 0.7, 0.8, 0.9, 1. ])"
            ]
          },
          "metadata": {},
          "execution_count": 51
        }
      ]
    },
    {
      "cell_type": "code",
      "source": [
        "params_em = {'l1_ratio': l1_ratio, 'fit_intercept': [True, False], 'max_iter': [1,5,10,100,1000,10000,100000], 'alpha':[1.0,2.0,3.0,5.0,10.0,100.0]}\n",
        "elastic_GS = GridSearchCV(elastic_model, params_em, n_jobs=-1, cv=5)\n",
        "em_GSCV = elastic_GS.fit(X,y)"
      ],
      "metadata": {
        "id": "ySjXCyJTWGCt"
      },
      "execution_count": 52,
      "outputs": []
    },
    {
      "cell_type": "code",
      "source": [
        "em_GSCV.best_params_"
      ],
      "metadata": {
        "colab": {
          "base_uri": "https://localhost:8080/"
        },
        "id": "jfRaId4AXULJ",
        "outputId": "893f33fb-4ed2-48ee-e723-bd0fa0337515"
      },
      "execution_count": 53,
      "outputs": [
        {
          "output_type": "execute_result",
          "data": {
            "text/plain": [
              "{'alpha': 1.0,\n",
              " 'fit_intercept': True,\n",
              " 'l1_ratio': np.float64(0.6),\n",
              " 'max_iter': 1}"
            ]
          },
          "metadata": {},
          "execution_count": 53
        }
      ]
    },
    {
      "cell_type": "code",
      "source": [
        "y_pred_GSCV = em_GSCV.predict(test_data)"
      ],
      "metadata": {
        "id": "iNiiw37AXZ8Q"
      },
      "execution_count": 54,
      "outputs": []
    },
    {
      "cell_type": "code",
      "source": [
        "print(f\"RMSE: {np.sqrt(metrics.mean_squared_error(test_labels,y_pred_GSCV))}\")\n",
        "print(f\"MAE: {metrics.mean_absolute_error(test_labels,y_pred_GSCV)}\")\n",
        "print(f\"R2:{metrics.r2_score(test_labels, y_pred_GSCV)}\")"
      ],
      "metadata": {
        "colab": {
          "base_uri": "https://localhost:8080/"
        },
        "id": "m3AgMWpOXgeM",
        "outputId": "2630a418-2df4-4e37-98ee-205d69476dff"
      },
      "execution_count": 57,
      "outputs": [
        {
          "output_type": "stream",
          "name": "stdout",
          "text": [
            "RMSE: 9734.378475951635\n",
            "MAE: 7766.412465690312\n",
            "R2:0.869568863584266\n"
          ]
        }
      ]
    },
    {
      "cell_type": "code",
      "source": [],
      "metadata": {
        "id": "fQuDKyEMXi4e"
      },
      "execution_count": null,
      "outputs": []
    }
  ]
}