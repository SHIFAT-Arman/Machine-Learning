{
  "nbformat": 4,
  "nbformat_minor": 0,
  "metadata": {
    "colab": {
      "provenance": [],
      "toc_visible": true,
      "authorship_tag": "ABX9TyNdZ4OEiBli5QIRnIHbzOwz",
      "include_colab_link": true
    },
    "kernelspec": {
      "name": "python3",
      "display_name": "Python 3"
    },
    "language_info": {
      "name": "python"
    }
  },
  "cells": [
    {
      "cell_type": "markdown",
      "metadata": {
        "id": "view-in-github",
        "colab_type": "text"
      },
      "source": [
        "<a href=\"https://colab.research.google.com/github/SHIFAT-Arman/Machine-Learning/blob/main/L1_L2_ElasticNet_Regularization.ipynb\" target=\"_parent\"><img src=\"https://colab.research.google.com/assets/colab-badge.svg\" alt=\"Open In Colab\"/></a>"
      ]
    },
    {
      "cell_type": "code",
      "execution_count": 27,
      "metadata": {
        "id": "jbhrrYudnofa"
      },
      "outputs": [],
      "source": [
        "import numpy as np\n",
        "import pandas as pd\n",
        "import matplotlib.pyplot as plt\n",
        "from sklearn.model_selection import train_test_split\n",
        "import sklearn.metrics as metrics\n",
        "from sklearn.linear_model import Ridge, Lasso, ElasticNet"
      ]
    },
    {
      "cell_type": "code",
      "source": [
        "data = pd.read_csv(\"Regression_Data.csv\")"
      ],
      "metadata": {
        "id": "6gpPFWlNoBmN"
      },
      "execution_count": 28,
      "outputs": []
    },
    {
      "cell_type": "code",
      "source": [
        "data"
      ],
      "metadata": {
        "colab": {
          "base_uri": "https://localhost:8080/",
          "height": 990
        },
        "id": "d4QqPB-GoERA",
        "outputId": "99c919be-f004-4b07-8132-833d0145539e"
      },
      "execution_count": 29,
      "outputs": [
        {
          "output_type": "execute_result",
          "data": {
            "text/plain": [
              "    Ind_Data  Dependent_Data\n",
              "0        1.1           39343\n",
              "1        1.3           46205\n",
              "2        1.5           37731\n",
              "3        2.0           43525\n",
              "4        2.2           39891\n",
              "5        2.9           56642\n",
              "6        3.0           60150\n",
              "7        3.2           54445\n",
              "8        3.2           64445\n",
              "9        3.7           57189\n",
              "10       3.9           63218\n",
              "11       4.0           55794\n",
              "12       4.0           56957\n",
              "13       4.1           57081\n",
              "14       4.5           61111\n",
              "15       4.9           67938\n",
              "16       5.1           66029\n",
              "17       5.3           83088\n",
              "18       5.9           81363\n",
              "19       6.0           93940\n",
              "20       6.8           91738\n",
              "21       7.1           98273\n",
              "22       7.9          101302\n",
              "23       8.2          113812\n",
              "24       8.7          109431\n",
              "25       9.0          105582\n",
              "26       9.5          116969\n",
              "27       9.6          112635\n",
              "28      10.3          122391\n",
              "29      10.5          121872"
            ],
            "text/html": [
              "\n",
              "  <div id=\"df-882dee39-5af2-47e7-817b-d020e2e2e214\" class=\"colab-df-container\">\n",
              "    <div>\n",
              "<style scoped>\n",
              "    .dataframe tbody tr th:only-of-type {\n",
              "        vertical-align: middle;\n",
              "    }\n",
              "\n",
              "    .dataframe tbody tr th {\n",
              "        vertical-align: top;\n",
              "    }\n",
              "\n",
              "    .dataframe thead th {\n",
              "        text-align: right;\n",
              "    }\n",
              "</style>\n",
              "<table border=\"1\" class=\"dataframe\">\n",
              "  <thead>\n",
              "    <tr style=\"text-align: right;\">\n",
              "      <th></th>\n",
              "      <th>Ind_Data</th>\n",
              "      <th>Dependent_Data</th>\n",
              "    </tr>\n",
              "  </thead>\n",
              "  <tbody>\n",
              "    <tr>\n",
              "      <th>0</th>\n",
              "      <td>1.1</td>\n",
              "      <td>39343</td>\n",
              "    </tr>\n",
              "    <tr>\n",
              "      <th>1</th>\n",
              "      <td>1.3</td>\n",
              "      <td>46205</td>\n",
              "    </tr>\n",
              "    <tr>\n",
              "      <th>2</th>\n",
              "      <td>1.5</td>\n",
              "      <td>37731</td>\n",
              "    </tr>\n",
              "    <tr>\n",
              "      <th>3</th>\n",
              "      <td>2.0</td>\n",
              "      <td>43525</td>\n",
              "    </tr>\n",
              "    <tr>\n",
              "      <th>4</th>\n",
              "      <td>2.2</td>\n",
              "      <td>39891</td>\n",
              "    </tr>\n",
              "    <tr>\n",
              "      <th>5</th>\n",
              "      <td>2.9</td>\n",
              "      <td>56642</td>\n",
              "    </tr>\n",
              "    <tr>\n",
              "      <th>6</th>\n",
              "      <td>3.0</td>\n",
              "      <td>60150</td>\n",
              "    </tr>\n",
              "    <tr>\n",
              "      <th>7</th>\n",
              "      <td>3.2</td>\n",
              "      <td>54445</td>\n",
              "    </tr>\n",
              "    <tr>\n",
              "      <th>8</th>\n",
              "      <td>3.2</td>\n",
              "      <td>64445</td>\n",
              "    </tr>\n",
              "    <tr>\n",
              "      <th>9</th>\n",
              "      <td>3.7</td>\n",
              "      <td>57189</td>\n",
              "    </tr>\n",
              "    <tr>\n",
              "      <th>10</th>\n",
              "      <td>3.9</td>\n",
              "      <td>63218</td>\n",
              "    </tr>\n",
              "    <tr>\n",
              "      <th>11</th>\n",
              "      <td>4.0</td>\n",
              "      <td>55794</td>\n",
              "    </tr>\n",
              "    <tr>\n",
              "      <th>12</th>\n",
              "      <td>4.0</td>\n",
              "      <td>56957</td>\n",
              "    </tr>\n",
              "    <tr>\n",
              "      <th>13</th>\n",
              "      <td>4.1</td>\n",
              "      <td>57081</td>\n",
              "    </tr>\n",
              "    <tr>\n",
              "      <th>14</th>\n",
              "      <td>4.5</td>\n",
              "      <td>61111</td>\n",
              "    </tr>\n",
              "    <tr>\n",
              "      <th>15</th>\n",
              "      <td>4.9</td>\n",
              "      <td>67938</td>\n",
              "    </tr>\n",
              "    <tr>\n",
              "      <th>16</th>\n",
              "      <td>5.1</td>\n",
              "      <td>66029</td>\n",
              "    </tr>\n",
              "    <tr>\n",
              "      <th>17</th>\n",
              "      <td>5.3</td>\n",
              "      <td>83088</td>\n",
              "    </tr>\n",
              "    <tr>\n",
              "      <th>18</th>\n",
              "      <td>5.9</td>\n",
              "      <td>81363</td>\n",
              "    </tr>\n",
              "    <tr>\n",
              "      <th>19</th>\n",
              "      <td>6.0</td>\n",
              "      <td>93940</td>\n",
              "    </tr>\n",
              "    <tr>\n",
              "      <th>20</th>\n",
              "      <td>6.8</td>\n",
              "      <td>91738</td>\n",
              "    </tr>\n",
              "    <tr>\n",
              "      <th>21</th>\n",
              "      <td>7.1</td>\n",
              "      <td>98273</td>\n",
              "    </tr>\n",
              "    <tr>\n",
              "      <th>22</th>\n",
              "      <td>7.9</td>\n",
              "      <td>101302</td>\n",
              "    </tr>\n",
              "    <tr>\n",
              "      <th>23</th>\n",
              "      <td>8.2</td>\n",
              "      <td>113812</td>\n",
              "    </tr>\n",
              "    <tr>\n",
              "      <th>24</th>\n",
              "      <td>8.7</td>\n",
              "      <td>109431</td>\n",
              "    </tr>\n",
              "    <tr>\n",
              "      <th>25</th>\n",
              "      <td>9.0</td>\n",
              "      <td>105582</td>\n",
              "    </tr>\n",
              "    <tr>\n",
              "      <th>26</th>\n",
              "      <td>9.5</td>\n",
              "      <td>116969</td>\n",
              "    </tr>\n",
              "    <tr>\n",
              "      <th>27</th>\n",
              "      <td>9.6</td>\n",
              "      <td>112635</td>\n",
              "    </tr>\n",
              "    <tr>\n",
              "      <th>28</th>\n",
              "      <td>10.3</td>\n",
              "      <td>122391</td>\n",
              "    </tr>\n",
              "    <tr>\n",
              "      <th>29</th>\n",
              "      <td>10.5</td>\n",
              "      <td>121872</td>\n",
              "    </tr>\n",
              "  </tbody>\n",
              "</table>\n",
              "</div>\n",
              "    <div class=\"colab-df-buttons\">\n",
              "\n",
              "  <div class=\"colab-df-container\">\n",
              "    <button class=\"colab-df-convert\" onclick=\"convertToInteractive('df-882dee39-5af2-47e7-817b-d020e2e2e214')\"\n",
              "            title=\"Convert this dataframe to an interactive table.\"\n",
              "            style=\"display:none;\">\n",
              "\n",
              "  <svg xmlns=\"http://www.w3.org/2000/svg\" height=\"24px\" viewBox=\"0 -960 960 960\">\n",
              "    <path d=\"M120-120v-720h720v720H120Zm60-500h600v-160H180v160Zm220 220h160v-160H400v160Zm0 220h160v-160H400v160ZM180-400h160v-160H180v160Zm440 0h160v-160H620v160ZM180-180h160v-160H180v160Zm440 0h160v-160H620v160Z\"/>\n",
              "  </svg>\n",
              "    </button>\n",
              "\n",
              "  <style>\n",
              "    .colab-df-container {\n",
              "      display:flex;\n",
              "      gap: 12px;\n",
              "    }\n",
              "\n",
              "    .colab-df-convert {\n",
              "      background-color: #E8F0FE;\n",
              "      border: none;\n",
              "      border-radius: 50%;\n",
              "      cursor: pointer;\n",
              "      display: none;\n",
              "      fill: #1967D2;\n",
              "      height: 32px;\n",
              "      padding: 0 0 0 0;\n",
              "      width: 32px;\n",
              "    }\n",
              "\n",
              "    .colab-df-convert:hover {\n",
              "      background-color: #E2EBFA;\n",
              "      box-shadow: 0px 1px 2px rgba(60, 64, 67, 0.3), 0px 1px 3px 1px rgba(60, 64, 67, 0.15);\n",
              "      fill: #174EA6;\n",
              "    }\n",
              "\n",
              "    .colab-df-buttons div {\n",
              "      margin-bottom: 4px;\n",
              "    }\n",
              "\n",
              "    [theme=dark] .colab-df-convert {\n",
              "      background-color: #3B4455;\n",
              "      fill: #D2E3FC;\n",
              "    }\n",
              "\n",
              "    [theme=dark] .colab-df-convert:hover {\n",
              "      background-color: #434B5C;\n",
              "      box-shadow: 0px 1px 3px 1px rgba(0, 0, 0, 0.15);\n",
              "      filter: drop-shadow(0px 1px 2px rgba(0, 0, 0, 0.3));\n",
              "      fill: #FFFFFF;\n",
              "    }\n",
              "  </style>\n",
              "\n",
              "    <script>\n",
              "      const buttonEl =\n",
              "        document.querySelector('#df-882dee39-5af2-47e7-817b-d020e2e2e214 button.colab-df-convert');\n",
              "      buttonEl.style.display =\n",
              "        google.colab.kernel.accessAllowed ? 'block' : 'none';\n",
              "\n",
              "      async function convertToInteractive(key) {\n",
              "        const element = document.querySelector('#df-882dee39-5af2-47e7-817b-d020e2e2e214');\n",
              "        const dataTable =\n",
              "          await google.colab.kernel.invokeFunction('convertToInteractive',\n",
              "                                                    [key], {});\n",
              "        if (!dataTable) return;\n",
              "\n",
              "        const docLinkHtml = 'Like what you see? Visit the ' +\n",
              "          '<a target=\"_blank\" href=https://colab.research.google.com/notebooks/data_table.ipynb>data table notebook</a>'\n",
              "          + ' to learn more about interactive tables.';\n",
              "        element.innerHTML = '';\n",
              "        dataTable['output_type'] = 'display_data';\n",
              "        await google.colab.output.renderOutput(dataTable, element);\n",
              "        const docLink = document.createElement('div');\n",
              "        docLink.innerHTML = docLinkHtml;\n",
              "        element.appendChild(docLink);\n",
              "      }\n",
              "    </script>\n",
              "  </div>\n",
              "\n",
              "\n",
              "    <div id=\"df-86c9e6b2-c7ec-4a8d-87c0-98c7e1a31da0\">\n",
              "      <button class=\"colab-df-quickchart\" onclick=\"quickchart('df-86c9e6b2-c7ec-4a8d-87c0-98c7e1a31da0')\"\n",
              "                title=\"Suggest charts\"\n",
              "                style=\"display:none;\">\n",
              "\n",
              "<svg xmlns=\"http://www.w3.org/2000/svg\" height=\"24px\"viewBox=\"0 0 24 24\"\n",
              "     width=\"24px\">\n",
              "    <g>\n",
              "        <path d=\"M19 3H5c-1.1 0-2 .9-2 2v14c0 1.1.9 2 2 2h14c1.1 0 2-.9 2-2V5c0-1.1-.9-2-2-2zM9 17H7v-7h2v7zm4 0h-2V7h2v10zm4 0h-2v-4h2v4z\"/>\n",
              "    </g>\n",
              "</svg>\n",
              "      </button>\n",
              "\n",
              "<style>\n",
              "  .colab-df-quickchart {\n",
              "      --bg-color: #E8F0FE;\n",
              "      --fill-color: #1967D2;\n",
              "      --hover-bg-color: #E2EBFA;\n",
              "      --hover-fill-color: #174EA6;\n",
              "      --disabled-fill-color: #AAA;\n",
              "      --disabled-bg-color: #DDD;\n",
              "  }\n",
              "\n",
              "  [theme=dark] .colab-df-quickchart {\n",
              "      --bg-color: #3B4455;\n",
              "      --fill-color: #D2E3FC;\n",
              "      --hover-bg-color: #434B5C;\n",
              "      --hover-fill-color: #FFFFFF;\n",
              "      --disabled-bg-color: #3B4455;\n",
              "      --disabled-fill-color: #666;\n",
              "  }\n",
              "\n",
              "  .colab-df-quickchart {\n",
              "    background-color: var(--bg-color);\n",
              "    border: none;\n",
              "    border-radius: 50%;\n",
              "    cursor: pointer;\n",
              "    display: none;\n",
              "    fill: var(--fill-color);\n",
              "    height: 32px;\n",
              "    padding: 0;\n",
              "    width: 32px;\n",
              "  }\n",
              "\n",
              "  .colab-df-quickchart:hover {\n",
              "    background-color: var(--hover-bg-color);\n",
              "    box-shadow: 0 1px 2px rgba(60, 64, 67, 0.3), 0 1px 3px 1px rgba(60, 64, 67, 0.15);\n",
              "    fill: var(--button-hover-fill-color);\n",
              "  }\n",
              "\n",
              "  .colab-df-quickchart-complete:disabled,\n",
              "  .colab-df-quickchart-complete:disabled:hover {\n",
              "    background-color: var(--disabled-bg-color);\n",
              "    fill: var(--disabled-fill-color);\n",
              "    box-shadow: none;\n",
              "  }\n",
              "\n",
              "  .colab-df-spinner {\n",
              "    border: 2px solid var(--fill-color);\n",
              "    border-color: transparent;\n",
              "    border-bottom-color: var(--fill-color);\n",
              "    animation:\n",
              "      spin 1s steps(1) infinite;\n",
              "  }\n",
              "\n",
              "  @keyframes spin {\n",
              "    0% {\n",
              "      border-color: transparent;\n",
              "      border-bottom-color: var(--fill-color);\n",
              "      border-left-color: var(--fill-color);\n",
              "    }\n",
              "    20% {\n",
              "      border-color: transparent;\n",
              "      border-left-color: var(--fill-color);\n",
              "      border-top-color: var(--fill-color);\n",
              "    }\n",
              "    30% {\n",
              "      border-color: transparent;\n",
              "      border-left-color: var(--fill-color);\n",
              "      border-top-color: var(--fill-color);\n",
              "      border-right-color: var(--fill-color);\n",
              "    }\n",
              "    40% {\n",
              "      border-color: transparent;\n",
              "      border-right-color: var(--fill-color);\n",
              "      border-top-color: var(--fill-color);\n",
              "    }\n",
              "    60% {\n",
              "      border-color: transparent;\n",
              "      border-right-color: var(--fill-color);\n",
              "    }\n",
              "    80% {\n",
              "      border-color: transparent;\n",
              "      border-right-color: var(--fill-color);\n",
              "      border-bottom-color: var(--fill-color);\n",
              "    }\n",
              "    90% {\n",
              "      border-color: transparent;\n",
              "      border-bottom-color: var(--fill-color);\n",
              "    }\n",
              "  }\n",
              "</style>\n",
              "\n",
              "      <script>\n",
              "        async function quickchart(key) {\n",
              "          const quickchartButtonEl =\n",
              "            document.querySelector('#' + key + ' button');\n",
              "          quickchartButtonEl.disabled = true;  // To prevent multiple clicks.\n",
              "          quickchartButtonEl.classList.add('colab-df-spinner');\n",
              "          try {\n",
              "            const charts = await google.colab.kernel.invokeFunction(\n",
              "                'suggestCharts', [key], {});\n",
              "          } catch (error) {\n",
              "            console.error('Error during call to suggestCharts:', error);\n",
              "          }\n",
              "          quickchartButtonEl.classList.remove('colab-df-spinner');\n",
              "          quickchartButtonEl.classList.add('colab-df-quickchart-complete');\n",
              "        }\n",
              "        (() => {\n",
              "          let quickchartButtonEl =\n",
              "            document.querySelector('#df-86c9e6b2-c7ec-4a8d-87c0-98c7e1a31da0 button');\n",
              "          quickchartButtonEl.style.display =\n",
              "            google.colab.kernel.accessAllowed ? 'block' : 'none';\n",
              "        })();\n",
              "      </script>\n",
              "    </div>\n",
              "\n",
              "  <div id=\"id_7ee8b6dd-764f-424f-aeb6-6f8e91976fb7\">\n",
              "    <style>\n",
              "      .colab-df-generate {\n",
              "        background-color: #E8F0FE;\n",
              "        border: none;\n",
              "        border-radius: 50%;\n",
              "        cursor: pointer;\n",
              "        display: none;\n",
              "        fill: #1967D2;\n",
              "        height: 32px;\n",
              "        padding: 0 0 0 0;\n",
              "        width: 32px;\n",
              "      }\n",
              "\n",
              "      .colab-df-generate:hover {\n",
              "        background-color: #E2EBFA;\n",
              "        box-shadow: 0px 1px 2px rgba(60, 64, 67, 0.3), 0px 1px 3px 1px rgba(60, 64, 67, 0.15);\n",
              "        fill: #174EA6;\n",
              "      }\n",
              "\n",
              "      [theme=dark] .colab-df-generate {\n",
              "        background-color: #3B4455;\n",
              "        fill: #D2E3FC;\n",
              "      }\n",
              "\n",
              "      [theme=dark] .colab-df-generate:hover {\n",
              "        background-color: #434B5C;\n",
              "        box-shadow: 0px 1px 3px 1px rgba(0, 0, 0, 0.15);\n",
              "        filter: drop-shadow(0px 1px 2px rgba(0, 0, 0, 0.3));\n",
              "        fill: #FFFFFF;\n",
              "      }\n",
              "    </style>\n",
              "    <button class=\"colab-df-generate\" onclick=\"generateWithVariable('data')\"\n",
              "            title=\"Generate code using this dataframe.\"\n",
              "            style=\"display:none;\">\n",
              "\n",
              "  <svg xmlns=\"http://www.w3.org/2000/svg\" height=\"24px\"viewBox=\"0 0 24 24\"\n",
              "       width=\"24px\">\n",
              "    <path d=\"M7,19H8.4L18.45,9,17,7.55,7,17.6ZM5,21V16.75L18.45,3.32a2,2,0,0,1,2.83,0l1.4,1.43a1.91,1.91,0,0,1,.58,1.4,1.91,1.91,0,0,1-.58,1.4L9.25,21ZM18.45,9,17,7.55Zm-12,3A5.31,5.31,0,0,0,4.9,8.1,5.31,5.31,0,0,0,1,6.5,5.31,5.31,0,0,0,4.9,4.9,5.31,5.31,0,0,0,6.5,1,5.31,5.31,0,0,0,8.1,4.9,5.31,5.31,0,0,0,12,6.5,5.46,5.46,0,0,0,6.5,12Z\"/>\n",
              "  </svg>\n",
              "    </button>\n",
              "    <script>\n",
              "      (() => {\n",
              "      const buttonEl =\n",
              "        document.querySelector('#id_7ee8b6dd-764f-424f-aeb6-6f8e91976fb7 button.colab-df-generate');\n",
              "      buttonEl.style.display =\n",
              "        google.colab.kernel.accessAllowed ? 'block' : 'none';\n",
              "\n",
              "      buttonEl.onclick = () => {\n",
              "        google.colab.notebook.generateWithVariable('data');\n",
              "      }\n",
              "      })();\n",
              "    </script>\n",
              "  </div>\n",
              "\n",
              "    </div>\n",
              "  </div>\n"
            ],
            "application/vnd.google.colaboratory.intrinsic+json": {
              "type": "dataframe",
              "variable_name": "data",
              "summary": "{\n  \"name\": \"data\",\n  \"rows\": 30,\n  \"fields\": [\n    {\n      \"column\": \"Ind_Data\",\n      \"properties\": {\n        \"dtype\": \"number\",\n        \"std\": 2.8378881576627184,\n        \"min\": 1.1,\n        \"max\": 10.5,\n        \"num_unique_values\": 28,\n        \"samples\": [\n          3.9,\n          9.6,\n          3.7\n        ],\n        \"semantic_type\": \"\",\n        \"description\": \"\"\n      }\n    },\n    {\n      \"column\": \"Dependent_Data\",\n      \"properties\": {\n        \"dtype\": \"number\",\n        \"std\": 27414,\n        \"min\": 37731,\n        \"max\": 122391,\n        \"num_unique_values\": 30,\n        \"samples\": [\n          112635,\n          67938,\n          113812\n        ],\n        \"semantic_type\": \"\",\n        \"description\": \"\"\n      }\n    }\n  ]\n}"
            }
          },
          "metadata": {},
          "execution_count": 29
        }
      ]
    },
    {
      "cell_type": "markdown",
      "source": [
        "## Extract from Data"
      ],
      "metadata": {
        "id": "b6dv_mfooMMQ"
      }
    },
    {
      "cell_type": "code",
      "source": [
        "X = data.iloc[:,:-1].values\n",
        "y = data.iloc[:,-1].values\n",
        "X.shape"
      ],
      "metadata": {
        "colab": {
          "base_uri": "https://localhost:8080/"
        },
        "id": "6gmVujYKoKPI",
        "outputId": "3445d3c3-e4e6-4ae0-a46c-b8abcad5ef85"
      },
      "execution_count": 30,
      "outputs": [
        {
          "output_type": "execute_result",
          "data": {
            "text/plain": [
              "(30, 1)"
            ]
          },
          "metadata": {},
          "execution_count": 30
        }
      ]
    },
    {
      "cell_type": "markdown",
      "source": [
        "## PolyReg"
      ],
      "metadata": {
        "id": "7VqKfzn_oPMB"
      }
    },
    {
      "cell_type": "code",
      "source": [
        "from sklearn.preprocessing import PolynomialFeatures\n",
        "poly_reg = PolynomialFeatures(degree = 4) # instantiate polynomial Regression\n",
        "X_poly = poly_reg.fit_transform(X)"
      ],
      "metadata": {
        "id": "ajADspnuoSUM"
      },
      "execution_count": 31,
      "outputs": []
    },
    {
      "cell_type": "code",
      "source": [
        "X_poly"
      ],
      "metadata": {
        "collapsed": true,
        "colab": {
          "base_uri": "https://localhost:8080/"
        },
        "id": "alIv3ze2oUQK",
        "outputId": "e84094ad-28a8-44bc-bbe0-43209dae2b57"
      },
      "execution_count": 32,
      "outputs": [
        {
          "output_type": "execute_result",
          "data": {
            "text/plain": [
              "array([[1.00000000e+00, 1.10000000e+00, 1.21000000e+00, 1.33100000e+00,\n",
              "        1.46410000e+00],\n",
              "       [1.00000000e+00, 1.30000000e+00, 1.69000000e+00, 2.19700000e+00,\n",
              "        2.85610000e+00],\n",
              "       [1.00000000e+00, 1.50000000e+00, 2.25000000e+00, 3.37500000e+00,\n",
              "        5.06250000e+00],\n",
              "       [1.00000000e+00, 2.00000000e+00, 4.00000000e+00, 8.00000000e+00,\n",
              "        1.60000000e+01],\n",
              "       [1.00000000e+00, 2.20000000e+00, 4.84000000e+00, 1.06480000e+01,\n",
              "        2.34256000e+01],\n",
              "       [1.00000000e+00, 2.90000000e+00, 8.41000000e+00, 2.43890000e+01,\n",
              "        7.07281000e+01],\n",
              "       [1.00000000e+00, 3.00000000e+00, 9.00000000e+00, 2.70000000e+01,\n",
              "        8.10000000e+01],\n",
              "       [1.00000000e+00, 3.20000000e+00, 1.02400000e+01, 3.27680000e+01,\n",
              "        1.04857600e+02],\n",
              "       [1.00000000e+00, 3.20000000e+00, 1.02400000e+01, 3.27680000e+01,\n",
              "        1.04857600e+02],\n",
              "       [1.00000000e+00, 3.70000000e+00, 1.36900000e+01, 5.06530000e+01,\n",
              "        1.87416100e+02],\n",
              "       [1.00000000e+00, 3.90000000e+00, 1.52100000e+01, 5.93190000e+01,\n",
              "        2.31344100e+02],\n",
              "       [1.00000000e+00, 4.00000000e+00, 1.60000000e+01, 6.40000000e+01,\n",
              "        2.56000000e+02],\n",
              "       [1.00000000e+00, 4.00000000e+00, 1.60000000e+01, 6.40000000e+01,\n",
              "        2.56000000e+02],\n",
              "       [1.00000000e+00, 4.10000000e+00, 1.68100000e+01, 6.89210000e+01,\n",
              "        2.82576100e+02],\n",
              "       [1.00000000e+00, 4.50000000e+00, 2.02500000e+01, 9.11250000e+01,\n",
              "        4.10062500e+02],\n",
              "       [1.00000000e+00, 4.90000000e+00, 2.40100000e+01, 1.17649000e+02,\n",
              "        5.76480100e+02],\n",
              "       [1.00000000e+00, 5.10000000e+00, 2.60100000e+01, 1.32651000e+02,\n",
              "        6.76520100e+02],\n",
              "       [1.00000000e+00, 5.30000000e+00, 2.80900000e+01, 1.48877000e+02,\n",
              "        7.89048100e+02],\n",
              "       [1.00000000e+00, 5.90000000e+00, 3.48100000e+01, 2.05379000e+02,\n",
              "        1.21173610e+03],\n",
              "       [1.00000000e+00, 6.00000000e+00, 3.60000000e+01, 2.16000000e+02,\n",
              "        1.29600000e+03],\n",
              "       [1.00000000e+00, 6.80000000e+00, 4.62400000e+01, 3.14432000e+02,\n",
              "        2.13813760e+03],\n",
              "       [1.00000000e+00, 7.10000000e+00, 5.04100000e+01, 3.57911000e+02,\n",
              "        2.54116810e+03],\n",
              "       [1.00000000e+00, 7.90000000e+00, 6.24100000e+01, 4.93039000e+02,\n",
              "        3.89500810e+03],\n",
              "       [1.00000000e+00, 8.20000000e+00, 6.72400000e+01, 5.51368000e+02,\n",
              "        4.52121760e+03],\n",
              "       [1.00000000e+00, 8.70000000e+00, 7.56900000e+01, 6.58503000e+02,\n",
              "        5.72897610e+03],\n",
              "       [1.00000000e+00, 9.00000000e+00, 8.10000000e+01, 7.29000000e+02,\n",
              "        6.56100000e+03],\n",
              "       [1.00000000e+00, 9.50000000e+00, 9.02500000e+01, 8.57375000e+02,\n",
              "        8.14506250e+03],\n",
              "       [1.00000000e+00, 9.60000000e+00, 9.21600000e+01, 8.84736000e+02,\n",
              "        8.49346560e+03],\n",
              "       [1.00000000e+00, 1.03000000e+01, 1.06090000e+02, 1.09272700e+03,\n",
              "        1.12550881e+04],\n",
              "       [1.00000000e+00, 1.05000000e+01, 1.10250000e+02, 1.15762500e+03,\n",
              "        1.21550625e+04]])"
            ]
          },
          "metadata": {},
          "execution_count": 32
        }
      ]
    },
    {
      "cell_type": "code",
      "source": [
        "X_poly.shape\n"
      ],
      "metadata": {
        "colab": {
          "base_uri": "https://localhost:8080/"
        },
        "id": "NA9vOvA6oYfT",
        "outputId": "53b40bc9-7ad4-483e-8bd5-1a023a48cac3"
      },
      "execution_count": 33,
      "outputs": [
        {
          "output_type": "execute_result",
          "data": {
            "text/plain": [
              "(30, 5)"
            ]
          },
          "metadata": {},
          "execution_count": 33
        }
      ]
    },
    {
      "cell_type": "code",
      "source": [
        "X_train, X_test, y_train, y_test = train_test_split(X_poly, y, test_size = 0.2, random_state = 42)"
      ],
      "metadata": {
        "id": "6eo7kDrhodQg"
      },
      "execution_count": 34,
      "outputs": []
    },
    {
      "cell_type": "markdown",
      "source": [
        "## Standardizing the data"
      ],
      "metadata": {
        "id": "b6kz9fd4n-5j"
      }
    },
    {
      "cell_type": "code",
      "source": [
        "from sklearn.preprocessing import StandardScaler"
      ],
      "metadata": {
        "id": "JqkCb5rNoiCm"
      },
      "execution_count": 35,
      "outputs": []
    },
    {
      "cell_type": "code",
      "source": [
        "scaler = StandardScaler()"
      ],
      "metadata": {
        "id": "-GphebW0okh4"
      },
      "execution_count": 36,
      "outputs": []
    },
    {
      "cell_type": "code",
      "source": [
        "X_train = scaler.fit_transform(X_train)"
      ],
      "metadata": {
        "id": "8lW37lt9omeM"
      },
      "execution_count": 37,
      "outputs": []
    },
    {
      "cell_type": "code",
      "source": [
        "X_test = scaler.transform(X_test)"
      ],
      "metadata": {
        "id": "Gfx3Chskoo2Q"
      },
      "execution_count": 38,
      "outputs": []
    },
    {
      "cell_type": "markdown",
      "source": [
        "## Applying Ridge Regression"
      ],
      "metadata": {
        "id": "oLtvh3X6orpi"
      }
    },
    {
      "cell_type": "code",
      "source": [
        "ridge = Ridge(alpha = 10)\n"
      ],
      "metadata": {
        "id": "qPgwv9v8otLF"
      },
      "execution_count": 39,
      "outputs": []
    },
    {
      "cell_type": "code",
      "source": [
        "RR = ridge.fit(X_train, y_train)\n"
      ],
      "metadata": {
        "id": "LuiaUfBBovmR"
      },
      "execution_count": 40,
      "outputs": []
    },
    {
      "cell_type": "code",
      "source": [
        "print(\"Intercept:\", RR.intercept_)\n",
        "print(\"Coefficient:\", RR.coef_)"
      ],
      "metadata": {
        "colab": {
          "base_uri": "https://localhost:8080/"
        },
        "id": "ynkCme_ZoxI8",
        "outputId": "f7aa9073-9664-4cd7-e5f5-d5b23a2103c6"
      },
      "execution_count": 41,
      "outputs": [
        {
          "output_type": "stream",
          "name": "stdout",
          "text": [
            "Intercept: 74207.625\n",
            "Coefficient: [   0.         9249.60410038 6915.76313316 4815.53180596 3158.56692132]\n"
          ]
        }
      ]
    },
    {
      "cell_type": "code",
      "source": [
        "y_pred_RR = RR.predict(X_test)"
      ],
      "metadata": {
        "id": "nfqMWEj6ozZH"
      },
      "execution_count": 42,
      "outputs": []
    },
    {
      "cell_type": "code",
      "source": [
        "print('RMSE:', np.sqrt(metrics.mean_squared_error(y_test, y_pred_RR)))\n",
        "print('MAE:', metrics.mean_absolute_error(y_test, y_pred_RR))\n",
        "print('R2:', metrics.r2_score(y_test, y_pred_RR))"
      ],
      "metadata": {
        "colab": {
          "base_uri": "https://localhost:8080/"
        },
        "id": "v3IgQ9PXo1Tp",
        "outputId": "94d80654-3292-49ac-ba13-0667d142bf8f"
      },
      "execution_count": 43,
      "outputs": [
        {
          "output_type": "stream",
          "name": "stdout",
          "text": [
            "RMSE: 9562.878211625599\n",
            "MAE: 7090.7841668963165\n",
            "R2: 0.8209683517671391\n"
          ]
        }
      ]
    },
    {
      "cell_type": "markdown",
      "source": [
        "## Applying LASSO Regression"
      ],
      "metadata": {
        "id": "gBF7hVTZo3xk"
      }
    },
    {
      "cell_type": "code",
      "source": [
        "lasso = Lasso(alpha = 10, max_iter = 10000)\n",
        "#%%\n",
        "#help(Lasso)\n",
        "#%%\n",
        "LR = lasso.fit(X_train, y_train)"
      ],
      "metadata": {
        "id": "2h53k7k9o6JA"
      },
      "execution_count": 44,
      "outputs": []
    },
    {
      "cell_type": "code",
      "source": [
        "print(\"Intercept:\", LR.intercept_)\n",
        "print(\"Coefficient:\", LR.coef_)"
      ],
      "metadata": {
        "colab": {
          "base_uri": "https://localhost:8080/"
        },
        "id": "Q-CqPGSZo_zQ",
        "outputId": "733f6d44-7236-4945-e705-971b4569f6a2"
      },
      "execution_count": 45,
      "outputs": [
        {
          "output_type": "stream",
          "name": "stdout",
          "text": [
            "Intercept: 74207.625\n",
            "Coefficient: [     0.           6759.48482567  35778.85023182     -0.\n",
            " -16345.76901788]\n"
          ]
        }
      ]
    },
    {
      "cell_type": "code",
      "source": [
        "y_pred_LR = LR.predict(X_test)\n"
      ],
      "metadata": {
        "id": "tRmBhQE5pBju"
      },
      "execution_count": 46,
      "outputs": []
    },
    {
      "cell_type": "code",
      "source": [
        "print('RMSE:', np.sqrt(metrics.mean_squared_error(y_test, y_pred_LR)))\n",
        "print('MAE:', metrics.mean_absolute_error(y_test, y_pred_LR))\n",
        "print('R2:', metrics.r2_score(y_test, y_pred_LR))"
      ],
      "metadata": {
        "colab": {
          "base_uri": "https://localhost:8080/"
        },
        "id": "lqUmNbQupD3-",
        "outputId": "b159afc3-f316-4ccc-85a4-698ea57141d5"
      },
      "execution_count": 47,
      "outputs": [
        {
          "output_type": "stream",
          "name": "stdout",
          "text": [
            "RMSE: 6955.868221657011\n",
            "MAE: 5876.031223802774\n",
            "R2: 0.9052770419873856\n"
          ]
        }
      ]
    },
    {
      "cell_type": "markdown",
      "source": [
        "## Elastic Net\n"
      ],
      "metadata": {
        "id": "1W7NaFyapElu"
      }
    },
    {
      "cell_type": "code",
      "source": [
        "enet = ElasticNet(alpha = 10, l1_ratio = 1, max_iter = 10000)\n"
      ],
      "metadata": {
        "id": "00aPaWN7pGoD"
      },
      "execution_count": 48,
      "outputs": []
    },
    {
      "cell_type": "code",
      "source": [
        "EN = enet.fit(X_train, y_train)\n"
      ],
      "metadata": {
        "id": "xgYH84iRpJZ-"
      },
      "execution_count": 49,
      "outputs": []
    },
    {
      "cell_type": "code",
      "source": [
        "print(\"Intercept:\", EN.intercept_)\n",
        "print(\"Coefficient:\", EN.coef_)"
      ],
      "metadata": {
        "colab": {
          "base_uri": "https://localhost:8080/"
        },
        "id": "UqgmNrO_pKlf",
        "outputId": "cef6a629-6cd5-44e0-99a7-31003819ecb5"
      },
      "execution_count": 50,
      "outputs": [
        {
          "output_type": "stream",
          "name": "stdout",
          "text": [
            "Intercept: 74207.625\n",
            "Coefficient: [     0.           6759.48482567  35778.85023182     -0.\n",
            " -16345.76901788]\n"
          ]
        }
      ]
    },
    {
      "cell_type": "code",
      "source": [
        "y_pred_EN = EN.predict(X_test)\n"
      ],
      "metadata": {
        "id": "xUBM77CMpMUZ"
      },
      "execution_count": 51,
      "outputs": []
    },
    {
      "cell_type": "code",
      "source": [
        "print('RMSE:', np.sqrt(metrics.mean_squared_error(y_test, y_pred_EN)))\n",
        "print('MAE:', metrics.mean_absolute_error(y_test, y_pred_EN))\n",
        "print('R2:', metrics.r2_score(y_test, y_pred_EN))"
      ],
      "metadata": {
        "colab": {
          "base_uri": "https://localhost:8080/"
        },
        "id": "kRp1vd45pOHM",
        "outputId": "b6f5b76d-3ab6-4f76-d190-40ad7cb9ea5b"
      },
      "execution_count": 52,
      "outputs": [
        {
          "output_type": "stream",
          "name": "stdout",
          "text": [
            "RMSE: 6955.868221657011\n",
            "MAE: 5876.031223802774\n",
            "R2: 0.9052770419873856\n"
          ]
        }
      ]
    }
  ]
}