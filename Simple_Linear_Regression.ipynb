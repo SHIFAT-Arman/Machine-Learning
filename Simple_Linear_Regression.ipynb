{
  "nbformat": 4,
  "nbformat_minor": 0,
  "metadata": {
    "colab": {
      "provenance": [],
      "toc_visible": true,
      "authorship_tag": "ABX9TyOXNU52OAM4CLY5MygJcmBd",
      "include_colab_link": true
    },
    "kernelspec": {
      "name": "python3",
      "display_name": "Python 3"
    },
    "language_info": {
      "name": "python"
    }
  },
  "cells": [
    {
      "cell_type": "markdown",
      "metadata": {
        "id": "view-in-github",
        "colab_type": "text"
      },
      "source": [
        "<a href=\"https://colab.research.google.com/github/SHIFAT-Arman/Machine-Learning/blob/main/Simple_Linear_Regression.ipynb\" target=\"_parent\"><img src=\"https://colab.research.google.com/assets/colab-badge.svg\" alt=\"Open In Colab\"/></a>"
      ]
    },
    {
      "cell_type": "code",
      "execution_count": 23,
      "metadata": {
        "id": "d0bthZXpoRUs"
      },
      "outputs": [],
      "source": [
        "import numpy as np\n",
        "import pandas as pd\n",
        "import matplotlib.pyplot as plt\n",
        "from matplotlib import style\n",
        "style.use('default')"
      ]
    },
    {
      "cell_type": "markdown",
      "source": [
        "## Importing Data"
      ],
      "metadata": {
        "id": "WsHb_8GHxAA2"
      }
    },
    {
      "cell_type": "code",
      "source": [
        "df = pd.read_csv('Regression_Data.csv')\n",
        "df.head()"
      ],
      "metadata": {
        "colab": {
          "base_uri": "https://localhost:8080/",
          "height": 206
        },
        "id": "2TNdCGJAw_La",
        "outputId": "5119102f-b4ba-48dc-a489-300594c60d68"
      },
      "execution_count": 24,
      "outputs": [
        {
          "output_type": "execute_result",
          "data": {
            "text/plain": [
              "   Ind_Data  Dependent_Data\n",
              "0       1.1           39343\n",
              "1       1.3           46205\n",
              "2       1.5           37731\n",
              "3       2.0           43525\n",
              "4       2.2           39891"
            ],
            "text/html": [
              "\n",
              "  <div id=\"df-41aa904f-167d-46b5-8473-576f749e05a3\" class=\"colab-df-container\">\n",
              "    <div>\n",
              "<style scoped>\n",
              "    .dataframe tbody tr th:only-of-type {\n",
              "        vertical-align: middle;\n",
              "    }\n",
              "\n",
              "    .dataframe tbody tr th {\n",
              "        vertical-align: top;\n",
              "    }\n",
              "\n",
              "    .dataframe thead th {\n",
              "        text-align: right;\n",
              "    }\n",
              "</style>\n",
              "<table border=\"1\" class=\"dataframe\">\n",
              "  <thead>\n",
              "    <tr style=\"text-align: right;\">\n",
              "      <th></th>\n",
              "      <th>Ind_Data</th>\n",
              "      <th>Dependent_Data</th>\n",
              "    </tr>\n",
              "  </thead>\n",
              "  <tbody>\n",
              "    <tr>\n",
              "      <th>0</th>\n",
              "      <td>1.1</td>\n",
              "      <td>39343</td>\n",
              "    </tr>\n",
              "    <tr>\n",
              "      <th>1</th>\n",
              "      <td>1.3</td>\n",
              "      <td>46205</td>\n",
              "    </tr>\n",
              "    <tr>\n",
              "      <th>2</th>\n",
              "      <td>1.5</td>\n",
              "      <td>37731</td>\n",
              "    </tr>\n",
              "    <tr>\n",
              "      <th>3</th>\n",
              "      <td>2.0</td>\n",
              "      <td>43525</td>\n",
              "    </tr>\n",
              "    <tr>\n",
              "      <th>4</th>\n",
              "      <td>2.2</td>\n",
              "      <td>39891</td>\n",
              "    </tr>\n",
              "  </tbody>\n",
              "</table>\n",
              "</div>\n",
              "    <div class=\"colab-df-buttons\">\n",
              "\n",
              "  <div class=\"colab-df-container\">\n",
              "    <button class=\"colab-df-convert\" onclick=\"convertToInteractive('df-41aa904f-167d-46b5-8473-576f749e05a3')\"\n",
              "            title=\"Convert this dataframe to an interactive table.\"\n",
              "            style=\"display:none;\">\n",
              "\n",
              "  <svg xmlns=\"http://www.w3.org/2000/svg\" height=\"24px\" viewBox=\"0 -960 960 960\">\n",
              "    <path d=\"M120-120v-720h720v720H120Zm60-500h600v-160H180v160Zm220 220h160v-160H400v160Zm0 220h160v-160H400v160ZM180-400h160v-160H180v160Zm440 0h160v-160H620v160ZM180-180h160v-160H180v160Zm440 0h160v-160H620v160Z\"/>\n",
              "  </svg>\n",
              "    </button>\n",
              "\n",
              "  <style>\n",
              "    .colab-df-container {\n",
              "      display:flex;\n",
              "      gap: 12px;\n",
              "    }\n",
              "\n",
              "    .colab-df-convert {\n",
              "      background-color: #E8F0FE;\n",
              "      border: none;\n",
              "      border-radius: 50%;\n",
              "      cursor: pointer;\n",
              "      display: none;\n",
              "      fill: #1967D2;\n",
              "      height: 32px;\n",
              "      padding: 0 0 0 0;\n",
              "      width: 32px;\n",
              "    }\n",
              "\n",
              "    .colab-df-convert:hover {\n",
              "      background-color: #E2EBFA;\n",
              "      box-shadow: 0px 1px 2px rgba(60, 64, 67, 0.3), 0px 1px 3px 1px rgba(60, 64, 67, 0.15);\n",
              "      fill: #174EA6;\n",
              "    }\n",
              "\n",
              "    .colab-df-buttons div {\n",
              "      margin-bottom: 4px;\n",
              "    }\n",
              "\n",
              "    [theme=dark] .colab-df-convert {\n",
              "      background-color: #3B4455;\n",
              "      fill: #D2E3FC;\n",
              "    }\n",
              "\n",
              "    [theme=dark] .colab-df-convert:hover {\n",
              "      background-color: #434B5C;\n",
              "      box-shadow: 0px 1px 3px 1px rgba(0, 0, 0, 0.15);\n",
              "      filter: drop-shadow(0px 1px 2px rgba(0, 0, 0, 0.3));\n",
              "      fill: #FFFFFF;\n",
              "    }\n",
              "  </style>\n",
              "\n",
              "    <script>\n",
              "      const buttonEl =\n",
              "        document.querySelector('#df-41aa904f-167d-46b5-8473-576f749e05a3 button.colab-df-convert');\n",
              "      buttonEl.style.display =\n",
              "        google.colab.kernel.accessAllowed ? 'block' : 'none';\n",
              "\n",
              "      async function convertToInteractive(key) {\n",
              "        const element = document.querySelector('#df-41aa904f-167d-46b5-8473-576f749e05a3');\n",
              "        const dataTable =\n",
              "          await google.colab.kernel.invokeFunction('convertToInteractive',\n",
              "                                                    [key], {});\n",
              "        if (!dataTable) return;\n",
              "\n",
              "        const docLinkHtml = 'Like what you see? Visit the ' +\n",
              "          '<a target=\"_blank\" href=https://colab.research.google.com/notebooks/data_table.ipynb>data table notebook</a>'\n",
              "          + ' to learn more about interactive tables.';\n",
              "        element.innerHTML = '';\n",
              "        dataTable['output_type'] = 'display_data';\n",
              "        await google.colab.output.renderOutput(dataTable, element);\n",
              "        const docLink = document.createElement('div');\n",
              "        docLink.innerHTML = docLinkHtml;\n",
              "        element.appendChild(docLink);\n",
              "      }\n",
              "    </script>\n",
              "  </div>\n",
              "\n",
              "\n",
              "    <div id=\"df-f2833568-2173-4091-8b21-475610f69dad\">\n",
              "      <button class=\"colab-df-quickchart\" onclick=\"quickchart('df-f2833568-2173-4091-8b21-475610f69dad')\"\n",
              "                title=\"Suggest charts\"\n",
              "                style=\"display:none;\">\n",
              "\n",
              "<svg xmlns=\"http://www.w3.org/2000/svg\" height=\"24px\"viewBox=\"0 0 24 24\"\n",
              "     width=\"24px\">\n",
              "    <g>\n",
              "        <path d=\"M19 3H5c-1.1 0-2 .9-2 2v14c0 1.1.9 2 2 2h14c1.1 0 2-.9 2-2V5c0-1.1-.9-2-2-2zM9 17H7v-7h2v7zm4 0h-2V7h2v10zm4 0h-2v-4h2v4z\"/>\n",
              "    </g>\n",
              "</svg>\n",
              "      </button>\n",
              "\n",
              "<style>\n",
              "  .colab-df-quickchart {\n",
              "      --bg-color: #E8F0FE;\n",
              "      --fill-color: #1967D2;\n",
              "      --hover-bg-color: #E2EBFA;\n",
              "      --hover-fill-color: #174EA6;\n",
              "      --disabled-fill-color: #AAA;\n",
              "      --disabled-bg-color: #DDD;\n",
              "  }\n",
              "\n",
              "  [theme=dark] .colab-df-quickchart {\n",
              "      --bg-color: #3B4455;\n",
              "      --fill-color: #D2E3FC;\n",
              "      --hover-bg-color: #434B5C;\n",
              "      --hover-fill-color: #FFFFFF;\n",
              "      --disabled-bg-color: #3B4455;\n",
              "      --disabled-fill-color: #666;\n",
              "  }\n",
              "\n",
              "  .colab-df-quickchart {\n",
              "    background-color: var(--bg-color);\n",
              "    border: none;\n",
              "    border-radius: 50%;\n",
              "    cursor: pointer;\n",
              "    display: none;\n",
              "    fill: var(--fill-color);\n",
              "    height: 32px;\n",
              "    padding: 0;\n",
              "    width: 32px;\n",
              "  }\n",
              "\n",
              "  .colab-df-quickchart:hover {\n",
              "    background-color: var(--hover-bg-color);\n",
              "    box-shadow: 0 1px 2px rgba(60, 64, 67, 0.3), 0 1px 3px 1px rgba(60, 64, 67, 0.15);\n",
              "    fill: var(--button-hover-fill-color);\n",
              "  }\n",
              "\n",
              "  .colab-df-quickchart-complete:disabled,\n",
              "  .colab-df-quickchart-complete:disabled:hover {\n",
              "    background-color: var(--disabled-bg-color);\n",
              "    fill: var(--disabled-fill-color);\n",
              "    box-shadow: none;\n",
              "  }\n",
              "\n",
              "  .colab-df-spinner {\n",
              "    border: 2px solid var(--fill-color);\n",
              "    border-color: transparent;\n",
              "    border-bottom-color: var(--fill-color);\n",
              "    animation:\n",
              "      spin 1s steps(1) infinite;\n",
              "  }\n",
              "\n",
              "  @keyframes spin {\n",
              "    0% {\n",
              "      border-color: transparent;\n",
              "      border-bottom-color: var(--fill-color);\n",
              "      border-left-color: var(--fill-color);\n",
              "    }\n",
              "    20% {\n",
              "      border-color: transparent;\n",
              "      border-left-color: var(--fill-color);\n",
              "      border-top-color: var(--fill-color);\n",
              "    }\n",
              "    30% {\n",
              "      border-color: transparent;\n",
              "      border-left-color: var(--fill-color);\n",
              "      border-top-color: var(--fill-color);\n",
              "      border-right-color: var(--fill-color);\n",
              "    }\n",
              "    40% {\n",
              "      border-color: transparent;\n",
              "      border-right-color: var(--fill-color);\n",
              "      border-top-color: var(--fill-color);\n",
              "    }\n",
              "    60% {\n",
              "      border-color: transparent;\n",
              "      border-right-color: var(--fill-color);\n",
              "    }\n",
              "    80% {\n",
              "      border-color: transparent;\n",
              "      border-right-color: var(--fill-color);\n",
              "      border-bottom-color: var(--fill-color);\n",
              "    }\n",
              "    90% {\n",
              "      border-color: transparent;\n",
              "      border-bottom-color: var(--fill-color);\n",
              "    }\n",
              "  }\n",
              "</style>\n",
              "\n",
              "      <script>\n",
              "        async function quickchart(key) {\n",
              "          const quickchartButtonEl =\n",
              "            document.querySelector('#' + key + ' button');\n",
              "          quickchartButtonEl.disabled = true;  // To prevent multiple clicks.\n",
              "          quickchartButtonEl.classList.add('colab-df-spinner');\n",
              "          try {\n",
              "            const charts = await google.colab.kernel.invokeFunction(\n",
              "                'suggestCharts', [key], {});\n",
              "          } catch (error) {\n",
              "            console.error('Error during call to suggestCharts:', error);\n",
              "          }\n",
              "          quickchartButtonEl.classList.remove('colab-df-spinner');\n",
              "          quickchartButtonEl.classList.add('colab-df-quickchart-complete');\n",
              "        }\n",
              "        (() => {\n",
              "          let quickchartButtonEl =\n",
              "            document.querySelector('#df-f2833568-2173-4091-8b21-475610f69dad button');\n",
              "          quickchartButtonEl.style.display =\n",
              "            google.colab.kernel.accessAllowed ? 'block' : 'none';\n",
              "        })();\n",
              "      </script>\n",
              "    </div>\n",
              "\n",
              "    </div>\n",
              "  </div>\n"
            ],
            "application/vnd.google.colaboratory.intrinsic+json": {
              "type": "dataframe",
              "variable_name": "df",
              "summary": "{\n  \"name\": \"df\",\n  \"rows\": 30,\n  \"fields\": [\n    {\n      \"column\": \"Ind_Data\",\n      \"properties\": {\n        \"dtype\": \"number\",\n        \"std\": 2.8378881576627184,\n        \"min\": 1.1,\n        \"max\": 10.5,\n        \"num_unique_values\": 28,\n        \"samples\": [\n          3.9,\n          9.6,\n          3.7\n        ],\n        \"semantic_type\": \"\",\n        \"description\": \"\"\n      }\n    },\n    {\n      \"column\": \"Dependent_Data\",\n      \"properties\": {\n        \"dtype\": \"number\",\n        \"std\": 27414,\n        \"min\": 37731,\n        \"max\": 122391,\n        \"num_unique_values\": 30,\n        \"samples\": [\n          112635,\n          67938,\n          113812\n        ],\n        \"semantic_type\": \"\",\n        \"description\": \"\"\n      }\n    }\n  ]\n}"
            }
          },
          "metadata": {},
          "execution_count": 24
        }
      ]
    },
    {
      "cell_type": "markdown",
      "source": [
        "## Create arrays for feature and target"
      ],
      "metadata": {
        "id": "yiVKy4cTxcEM"
      }
    },
    {
      "cell_type": "code",
      "source": [
        "X = df['Ind_Data'].values\n",
        "X"
      ],
      "metadata": {
        "colab": {
          "base_uri": "https://localhost:8080/"
        },
        "id": "WWUf87kFxPzB",
        "outputId": "3f87aea6-54c7-411d-9b8c-5d1096086283"
      },
      "execution_count": 25,
      "outputs": [
        {
          "output_type": "execute_result",
          "data": {
            "text/plain": [
              "array([ 1.1,  1.3,  1.5,  2. ,  2.2,  2.9,  3. ,  3.2,  3.2,  3.7,  3.9,\n",
              "        4. ,  4. ,  4.1,  4.5,  4.9,  5.1,  5.3,  5.9,  6. ,  6.8,  7.1,\n",
              "        7.9,  8.2,  8.7,  9. ,  9.5,  9.6, 10.3, 10.5])"
            ]
          },
          "metadata": {},
          "execution_count": 25
        }
      ]
    },
    {
      "cell_type": "code",
      "source": [
        "y = df['Dependent_Data'].values\n",
        "y"
      ],
      "metadata": {
        "colab": {
          "base_uri": "https://localhost:8080/"
        },
        "id": "_Vanq7HLxq4j",
        "outputId": "deb6506d-77de-434e-dbe4-c3f5cd6f8551"
      },
      "execution_count": 26,
      "outputs": [
        {
          "output_type": "execute_result",
          "data": {
            "text/plain": [
              "array([ 39343,  46205,  37731,  43525,  39891,  56642,  60150,  54445,\n",
              "        64445,  57189,  63218,  55794,  56957,  57081,  61111,  67938,\n",
              "        66029,  83088,  81363,  93940,  91738,  98273, 101302, 113812,\n",
              "       109431, 105582, 116969, 112635, 122391, 121872])"
            ]
          },
          "metadata": {},
          "execution_count": 26
        }
      ]
    },
    {
      "cell_type": "markdown",
      "source": [
        "## Visualize"
      ],
      "metadata": {
        "id": "6FtYkQdVx2mm"
      }
    },
    {
      "cell_type": "code",
      "source": [
        "# plt.figure(figsize=(12,8))\n",
        "plt.scatter(X, y, marker=\"x\", color='g',lw=5)\n",
        "plt.xlabel('Independent Data')\n",
        "plt.ylabel('Dependent Data')\n",
        "plt.xlim([0, X.max()])\n",
        "plt.ylim([0, y.max()])\n",
        "plt.title('Regression Data')\n",
        "plt.show()"
      ],
      "metadata": {
        "colab": {
          "base_uri": "https://localhost:8080/",
          "height": 472
        },
        "id": "4spnd4-Dx0sn",
        "outputId": "6d82c935-8bf8-451b-ecbb-72242c5f596c"
      },
      "execution_count": 28,
      "outputs": [
        {
          "output_type": "display_data",
          "data": {
            "text/plain": [
              "<Figure size 640x480 with 1 Axes>"
            ],
            "image/png": "[encoded data removed]"
          },
          "metadata": {}
        }
      ]
    },
    {
      "cell_type": "markdown",
      "source": [
        "## Applying Least Square"
      ],
      "metadata": {
        "id": "ty-0tX_VzP71"
      }
    },
    {
      "cell_type": "markdown",
      "source": [
        "### Appending ones at the first column"
      ],
      "metadata": {
        "id": "SbqEQZIRzpcs"
      }
    },
    {
      "cell_type": "code",
      "source": [
        "ones = np.ones((len(X),1))\n",
        "ones"
      ],
      "metadata": {
        "colab": {
          "base_uri": "https://localhost:8080/"
        },
        "id": "e7GdyLe4yN6U",
        "outputId": "41e11db2-ee3f-4a04-b22a-400406965f68"
      },
      "execution_count": 31,
      "outputs": [
        {
          "output_type": "execute_result",
          "data": {
            "text/plain": [
              "array([[1.],\n",
              "       [1.],\n",
              "       [1.],\n",
              "       [1.],\n",
              "       [1.],\n",
              "       [1.],\n",
              "       [1.],\n",
              "       [1.],\n",
              "       [1.],\n",
              "       [1.],\n",
              "       [1.],\n",
              "       [1.],\n",
              "       [1.],\n",
              "       [1.],\n",
              "       [1.],\n",
              "       [1.],\n",
              "       [1.],\n",
              "       [1.],\n",
              "       [1.],\n",
              "       [1.],\n",
              "       [1.],\n",
              "       [1.],\n",
              "       [1.],\n",
              "       [1.],\n",
              "       [1.],\n",
              "       [1.],\n",
              "       [1.],\n",
              "       [1.],\n",
              "       [1.],\n",
              "       [1.]])"
            ]
          },
          "metadata": {},
          "execution_count": 31
        }
      ]
    },
    {
      "cell_type": "code",
      "source": [
        "X = X.reshape(-1,1)\n",
        "X"
      ],
      "metadata": {
        "colab": {
          "base_uri": "https://localhost:8080/"
        },
        "id": "170l29m80Nhi",
        "outputId": "84d8b256-ed47-41e9-cf89-524564cec455"
      },
      "execution_count": 33,
      "outputs": [
        {
          "output_type": "execute_result",
          "data": {
            "text/plain": [
              "array([[ 1.1],\n",
              "       [ 1.3],\n",
              "       [ 1.5],\n",
              "       [ 2. ],\n",
              "       [ 2.2],\n",
              "       [ 2.9],\n",
              "       [ 3. ],\n",
              "       [ 3.2],\n",
              "       [ 3.2],\n",
              "       [ 3.7],\n",
              "       [ 3.9],\n",
              "       [ 4. ],\n",
              "       [ 4. ],\n",
              "       [ 4.1],\n",
              "       [ 4.5],\n",
              "       [ 4.9],\n",
              "       [ 5.1],\n",
              "       [ 5.3],\n",
              "       [ 5.9],\n",
              "       [ 6. ],\n",
              "       [ 6.8],\n",
              "       [ 7.1],\n",
              "       [ 7.9],\n",
              "       [ 8.2],\n",
              "       [ 8.7],\n",
              "       [ 9. ],\n",
              "       [ 9.5],\n",
              "       [ 9.6],\n",
              "       [10.3],\n",
              "       [10.5]])"
            ]
          },
          "metadata": {},
          "execution_count": 33
        }
      ]
    },
    {
      "cell_type": "code",
      "source": [
        "xls = np.concatenate((ones,X),axis=1)\n",
        "xls"
      ],
      "metadata": {
        "colab": {
          "base_uri": "https://localhost:8080/"
        },
        "id": "TMtKvwTs0nlq",
        "outputId": "7183d734-3b4e-446c-b552-d5a082aa4b7c"
      },
      "execution_count": 34,
      "outputs": [
        {
          "output_type": "execute_result",
          "data": {
            "text/plain": [
              "array([[ 1. ,  1.1],\n",
              "       [ 1. ,  1.3],\n",
              "       [ 1. ,  1.5],\n",
              "       [ 1. ,  2. ],\n",
              "       [ 1. ,  2.2],\n",
              "       [ 1. ,  2.9],\n",
              "       [ 1. ,  3. ],\n",
              "       [ 1. ,  3.2],\n",
              "       [ 1. ,  3.2],\n",
              "       [ 1. ,  3.7],\n",
              "       [ 1. ,  3.9],\n",
              "       [ 1. ,  4. ],\n",
              "       [ 1. ,  4. ],\n",
              "       [ 1. ,  4.1],\n",
              "       [ 1. ,  4.5],\n",
              "       [ 1. ,  4.9],\n",
              "       [ 1. ,  5.1],\n",
              "       [ 1. ,  5.3],\n",
              "       [ 1. ,  5.9],\n",
              "       [ 1. ,  6. ],\n",
              "       [ 1. ,  6.8],\n",
              "       [ 1. ,  7.1],\n",
              "       [ 1. ,  7.9],\n",
              "       [ 1. ,  8.2],\n",
              "       [ 1. ,  8.7],\n",
              "       [ 1. ,  9. ],\n",
              "       [ 1. ,  9.5],\n",
              "       [ 1. ,  9.6],\n",
              "       [ 1. , 10.3],\n",
              "       [ 1. , 10.5]])"
            ]
          },
          "metadata": {},
          "execution_count": 34
        }
      ]
    },
    {
      "cell_type": "code",
      "source": [
        "y = y.reshape(-1,1)\n",
        "y"
      ],
      "metadata": {
        "colab": {
          "base_uri": "https://localhost:8080/"
        },
        "id": "Ysgk0zA40wyd",
        "outputId": "03a9f1b6-dd3a-4494-ce1f-ec1ef2c97a32"
      },
      "execution_count": 35,
      "outputs": [
        {
          "output_type": "execute_result",
          "data": {
            "text/plain": [
              "array([[ 39343],\n",
              "       [ 46205],\n",
              "       [ 37731],\n",
              "       [ 43525],\n",
              "       [ 39891],\n",
              "       [ 56642],\n",
              "       [ 60150],\n",
              "       [ 54445],\n",
              "       [ 64445],\n",
              "       [ 57189],\n",
              "       [ 63218],\n",
              "       [ 55794],\n",
              "       [ 56957],\n",
              "       [ 57081],\n",
              "       [ 61111],\n",
              "       [ 67938],\n",
              "       [ 66029],\n",
              "       [ 83088],\n",
              "       [ 81363],\n",
              "       [ 93940],\n",
              "       [ 91738],\n",
              "       [ 98273],\n",
              "       [101302],\n",
              "       [113812],\n",
              "       [109431],\n",
              "       [105582],\n",
              "       [116969],\n",
              "       [112635],\n",
              "       [122391],\n",
              "       [121872]])"
            ]
          },
          "metadata": {},
          "execution_count": 35
        }
      ]
    },
    {
      "cell_type": "markdown",
      "source": [
        "### Step by step Multiplication for the formula"
      ],
      "metadata": {
        "id": "NL-FK8mL1BF6"
      }
    },
    {
      "cell_type": "code",
      "source": [
        "XT = np.transpose(xls) # transpose of X"
      ],
      "metadata": {
        "id": "3TiXuy2w079j"
      },
      "execution_count": 36,
      "outputs": []
    },
    {
      "cell_type": "code",
      "source": [
        "prod_X = np.matmul(XT, xls) # calculate XT * X"
      ],
      "metadata": {
        "id": "pRyIxnNU1VB7"
      },
      "execution_count": 37,
      "outputs": []
    },
    {
      "cell_type": "code",
      "source": [
        "inv_X = np.linalg.inv(prod_X) # calculate inverse of XT * X"
      ],
      "metadata": {
        "id": "PC73FuyC1ebn"
      },
      "execution_count": 38,
      "outputs": []
    },
    {
      "cell_type": "code",
      "source": [
        "XTy = np.matmul(XT, y) # calculate XT * y"
      ],
      "metadata": {
        "id": "K4VeNQyT1oYu"
      },
      "execution_count": 39,
      "outputs": []
    },
    {
      "cell_type": "code",
      "source": [
        "wLS = np.matmul(inv_X, XTy) # calculate inverse of XT * y"
      ],
      "metadata": {
        "id": "krTO2sB51vza"
      },
      "execution_count": 40,
      "outputs": []
    },
    {
      "cell_type": "code",
      "source": [
        "wLS"
      ],
      "metadata": {
        "colab": {
          "base_uri": "https://localhost:8080/"
        },
        "id": "gSsbtBpK13ZY",
        "outputId": "512c1f8b-b378-44a4-97fb-b95243533343"
      },
      "execution_count": 41,
      "outputs": [
        {
          "output_type": "execute_result",
          "data": {
            "text/plain": [
              "array([[25792.20019867],\n",
              "       [ 9449.96232146]])"
            ]
          },
          "metadata": {},
          "execution_count": 41
        }
      ]
    },
    {
      "cell_type": "code",
      "source": [
        "w0 = wLS[0].round(2)\n",
        "w1 = wLS[1].round(2)"
      ],
      "metadata": {
        "id": "MAwsbEHy14PC"
      },
      "execution_count": 45,
      "outputs": []
    },
    {
      "cell_type": "code",
      "source": [
        "w0"
      ],
      "metadata": {
        "colab": {
          "base_uri": "https://localhost:8080/"
        },
        "id": "WJz5u6gx2CcB",
        "outputId": "7fa1328b-cfe0-4318-abae-b4b728c18fa7"
      },
      "execution_count": 46,
      "outputs": [
        {
          "output_type": "execute_result",
          "data": {
            "text/plain": [
              "array([25792.2])"
            ]
          },
          "metadata": {},
          "execution_count": 46
        }
      ]
    },
    {
      "cell_type": "code",
      "source": [
        "w1"
      ],
      "metadata": {
        "colab": {
          "base_uri": "https://localhost:8080/"
        },
        "id": "JgPmgJUc2C3s",
        "outputId": "01afb27e-cc42-4fa8-9572-6e6bc963155f"
      },
      "execution_count": 47,
      "outputs": [
        {
          "output_type": "execute_result",
          "data": {
            "text/plain": [
              "array([9449.96])"
            ]
          },
          "metadata": {},
          "execution_count": 47
        }
      ]
    },
    {
      "cell_type": "markdown",
      "source": [
        "### Interpreting the concept of weight\n",
        " - w1 shows that the value of dependent variable increases by 9449.96 if the value of independent variable increases by one unit"
      ],
      "metadata": {
        "id": "J9_fqneV2Je4"
      }
    },
    {
      "cell_type": "markdown",
      "source": [
        "## Testing the model"
      ],
      "metadata": {
        "id": "2XGcHCC92smH"
      }
    },
    {
      "cell_type": "code",
      "source": [
        "test_data = np.linspace(0,11,30)"
      ],
      "metadata": {
        "id": "OF7vrzLG2DQi"
      },
      "execution_count": 48,
      "outputs": []
    },
    {
      "cell_type": "code",
      "source": [
        "test_data"
      ],
      "metadata": {
        "colab": {
          "base_uri": "https://localhost:8080/"
        },
        "id": "VLbWlXzB226L",
        "outputId": "b2c55567-e5dc-4121-d921-c927e86e75b2"
      },
      "execution_count": 49,
      "outputs": [
        {
          "output_type": "execute_result",
          "data": {
            "text/plain": [
              "array([ 0.        ,  0.37931034,  0.75862069,  1.13793103,  1.51724138,\n",
              "        1.89655172,  2.27586207,  2.65517241,  3.03448276,  3.4137931 ,\n",
              "        3.79310345,  4.17241379,  4.55172414,  4.93103448,  5.31034483,\n",
              "        5.68965517,  6.06896552,  6.44827586,  6.82758621,  7.20689655,\n",
              "        7.5862069 ,  7.96551724,  8.34482759,  8.72413793,  9.10344828,\n",
              "        9.48275862,  9.86206897, 10.24137931, 10.62068966, 11.        ])"
            ]
          },
          "metadata": {},
          "execution_count": 49
        }
      ]
    },
    {
      "cell_type": "code",
      "source": [
        "test_labels = np.linspace(np.min(y), np.max(y),30)\n",
        "test_labels"
      ],
      "metadata": {
        "colab": {
          "base_uri": "https://localhost:8080/"
        },
        "id": "kjQRZqoh230G",
        "outputId": "cf7b782e-0457-4c97-ad8b-b7998fc4cbcc"
      },
      "execution_count": 50,
      "outputs": [
        {
          "output_type": "execute_result",
          "data": {
            "text/plain": [
              "array([ 37731.        ,  40650.31034483,  43569.62068966,  46488.93103448,\n",
              "        49408.24137931,  52327.55172414,  55246.86206897,  58166.17241379,\n",
              "        61085.48275862,  64004.79310345,  66924.10344828,  69843.4137931 ,\n",
              "        72762.72413793,  75682.03448276,  78601.34482759,  81520.65517241,\n",
              "        84439.96551724,  87359.27586207,  90278.5862069 ,  93197.89655172,\n",
              "        96117.20689655,  99036.51724138, 101955.82758621, 104875.13793103,\n",
              "       107794.44827586, 110713.75862069, 113633.06896552, 116552.37931034,\n",
              "       119471.68965517, 122391.        ])"
            ]
          },
          "metadata": {},
          "execution_count": 50
        }
      ]
    },
    {
      "cell_type": "code",
      "source": [
        "y_pred = w0 + w1 * test_data # y = w0 + w1*X"
      ],
      "metadata": {
        "id": "_LWEYK143FYD"
      },
      "execution_count": 51,
      "outputs": []
    },
    {
      "cell_type": "code",
      "source": [
        "y_pred"
      ],
      "metadata": {
        "colab": {
          "base_uri": "https://localhost:8080/"
        },
        "id": "HAZLBGXD3TCA",
        "outputId": "59e7f159-c540-4877-a686-3a7c3d2e2fdc"
      },
      "execution_count": 52,
      "outputs": [
        {
          "output_type": "execute_result",
          "data": {
            "text/plain": [
              "array([ 25792.2       ,  29376.66758621,  32961.13517241,  36545.60275862,\n",
              "        40130.07034483,  43714.53793103,  47299.00551724,  50883.47310345,\n",
              "        54467.94068966,  58052.40827586,  61636.87586207,  65221.34344828,\n",
              "        68805.81103448,  72390.27862069,  75974.7462069 ,  79559.2137931 ,\n",
              "        83143.68137931,  86728.14896552,  90312.61655172,  93897.08413793,\n",
              "        97481.55172414, 101066.01931034, 104650.48689655, 108234.95448276,\n",
              "       111819.42206897, 115403.88965517, 118988.35724138, 122572.82482759,\n",
              "       126157.29241379, 129741.76      ])"
            ]
          },
          "metadata": {},
          "execution_count": 52
        }
      ]
    },
    {
      "cell_type": "markdown",
      "source": [
        "### Visualize the model performance"
      ],
      "metadata": {
        "id": "-2_KeQeC3WTb"
      }
    },
    {
      "cell_type": "code",
      "source": [
        "plt.figure(figsize=(12,8))\n",
        "plt.scatter(X, y, marker=\"x\", color='g',lw=5)\n",
        "plt.plot(test_data, y_pred, color='r',lw=2)\n",
        "plt.xlabel('Independent Data')\n",
        "plt.ylabel('Dependent Data')\n",
        "plt.xlim([0, X.max()])\n",
        "plt.ylim([0, y.max()])\n",
        "plt.title('Regression Data')\n",
        "plt.show()"
      ],
      "metadata": {
        "colab": {
          "base_uri": "https://localhost:8080/",
          "height": 718
        },
        "id": "rFymjBTn3UdA",
        "outputId": "6039d743-4453-433b-f668-8f1cbb970dc0"
      },
      "execution_count": 55,
      "outputs": [
        {
          "output_type": "display_data",
          "data": {
            "text/plain": [
              "<Figure size 1200x800 with 1 Axes>"
            ],
            "image/png": "[encoded data removed]"
          },
          "metadata": {}
        }
      ]
    },
    {
      "cell_type": "markdown",
      "source": [
        "## Evaluating Performance"
      ],
      "metadata": {
        "id": "vOaDLZmy3_KC"
      }
    },
    {
      "cell_type": "markdown",
      "source": [
        "### RMSE"
      ],
      "metadata": {
        "id": "oNceLW1y4-Q5"
      }
    },
    {
      "cell_type": "code",
      "source": [
        "rmse = 0\n",
        "for i in range(len(test_labels)):\n",
        "  y_pred = w0 + w1 * test_data[i]\n",
        "  rmse += (test_labels[i] - y_pred)**2\n",
        "rmse = np.sqrt(rmse/len(test_labels))\n",
        "\n",
        "print(f\"RMSE{rmse}\")"
      ],
      "metadata": {
        "colab": {
          "base_uri": "https://localhost:8080/"
        },
        "id": "tfJNIEhK3f9S",
        "outputId": "aabef142-7558-4af9-fa99-6d76267d9884"
      },
      "execution_count": 56,
      "outputs": [
        {
          "output_type": "stream",
          "name": "stdout",
          "text": [
            "RMSE[6197.43656114]\n"
          ]
        }
      ]
    },
    {
      "cell_type": "code",
      "source": [
        "test_labels"
      ],
      "metadata": {
        "colab": {
          "base_uri": "https://localhost:8080/"
        },
        "id": "4vqaQPBE4oov",
        "outputId": "797c324d-e4be-46cf-b09f-24dac8e269c7"
      },
      "execution_count": 57,
      "outputs": [
        {
          "output_type": "execute_result",
          "data": {
            "text/plain": [
              "array([ 37731.        ,  40650.31034483,  43569.62068966,  46488.93103448,\n",
              "        49408.24137931,  52327.55172414,  55246.86206897,  58166.17241379,\n",
              "        61085.48275862,  64004.79310345,  66924.10344828,  69843.4137931 ,\n",
              "        72762.72413793,  75682.03448276,  78601.34482759,  81520.65517241,\n",
              "        84439.96551724,  87359.27586207,  90278.5862069 ,  93197.89655172,\n",
              "        96117.20689655,  99036.51724138, 101955.82758621, 104875.13793103,\n",
              "       107794.44827586, 110713.75862069, 113633.06896552, 116552.37931034,\n",
              "       119471.68965517, 122391.        ])"
            ]
          },
          "metadata": {},
          "execution_count": 57
        }
      ]
    },
    {
      "cell_type": "markdown",
      "source": [
        "- RMSE value is much lower than target variable, so model is performing better."
      ],
      "metadata": {
        "id": "TbX1wmH043UB"
      }
    },
    {
      "cell_type": "markdown",
      "source": [
        "### MAE"
      ],
      "metadata": {
        "id": "R0WMJT-G5ARQ"
      }
    },
    {
      "cell_type": "code",
      "source": [
        "mae = 0\n",
        "for i in range(len(test_labels)):\n",
        "  y_pred = w0 + w1 * test_data[i]\n",
        "  mae += abs(test_labels[i] - y_pred)\n",
        "mae = mae/len(test_labels)\n",
        "\n",
        "print(f\"MAE{mae}\")"
      ],
      "metadata": {
        "colab": {
          "base_uri": "https://localhost:8080/"
        },
        "id": "fRubCG1Z4z0l",
        "outputId": "afdb6bbc-81ca-4242-9cb1-ed0d5735e7fa"
      },
      "execution_count": 58,
      "outputs": [
        {
          "output_type": "stream",
          "name": "stdout",
          "text": [
            "MAE[5247.93613793]\n"
          ]
        }
      ]
    },
    {
      "cell_type": "markdown",
      "source": [
        "### R squared"
      ],
      "metadata": {
        "id": "_XthiYXq5eOa"
      }
    },
    {
      "cell_type": "code",
      "source": [
        "SSE = 0\n",
        "SST = 0\n",
        "for i in range(len(test_labels)):\n",
        "  y_pred = w0 + w1 * test_data[i]\n",
        "  SSE += (test_labels[i] - y_pred)**2\n",
        "  SST += (test_labels[i] - np.mean(y))**2\n",
        "r2 = 1 - SSE/SST\n",
        "\n",
        "print(f\"R2{r2}\")"
      ],
      "metadata": {
        "colab": {
          "base_uri": "https://localhost:8080/"
        },
        "id": "e_wGxyDm5HOa",
        "outputId": "17e8470e-9b57-4553-dae4-e237399ce0f7"
      },
      "execution_count": 59,
      "outputs": [
        {
          "output_type": "stream",
          "name": "stdout",
          "text": [
            "R2[0.94135569]\n"
          ]
        }
      ]
    },
    {
      "cell_type": "markdown",
      "source": [
        "## Linear Regression using SK-LEARN"
      ],
      "metadata": {
        "id": "hidFR3-I58yL"
      }
    },
    {
      "cell_type": "code",
      "source": [
        "from sklearn.linear_model import LinearRegression\n",
        "lr = LinearRegression()"
      ],
      "metadata": {
        "id": "wfMkXqRB5tgl"
      },
      "execution_count": 60,
      "outputs": []
    },
    {
      "cell_type": "code",
      "source": [
        "lr.fit(X,y) # sklearn uses least square for fitting\n",
        "print(f\"w0: {lr.intercept_}\")\n",
        "print(f\"w1: {lr.coef_}\")"
      ],
      "metadata": {
        "colab": {
          "base_uri": "https://localhost:8080/"
        },
        "id": "e0ntcUWA8WUs",
        "outputId": "2e613383-9c39-4ca6-f20d-ef2b6f83503d"
      },
      "execution_count": 61,
      "outputs": [
        {
          "output_type": "stream",
          "name": "stdout",
          "text": [
            "w0: [25792.20019867]\n",
            "w1: [[9449.96232146]]\n"
          ]
        }
      ]
    },
    {
      "cell_type": "code",
      "source": [
        "test_data = test_data.reshape(-1,1)"
      ],
      "metadata": {
        "id": "B5XcGl1R8fIK"
      },
      "execution_count": 62,
      "outputs": []
    },
    {
      "cell_type": "code",
      "source": [
        "y_pred = lr.predict(test_data)"
      ],
      "metadata": {
        "id": "Gf6hxk3T8yym"
      },
      "execution_count": 63,
      "outputs": []
    },
    {
      "cell_type": "code",
      "source": [
        "plt.figure(figsize=(12,8))\n",
        "plt.scatter(X, y, marker=\"x\", color='g',lw=5)\n",
        "plt.plot(test_data, y_pred, color='r',lw=2)\n",
        "plt.xlabel('Independent Data')\n",
        "plt.ylabel('Dependent Data')\n",
        "plt.xlim([0, X.max()])\n",
        "plt.ylim([0, y.max()])\n",
        "plt.title('Regression Data')\n",
        "plt.show()"
      ],
      "metadata": {
        "colab": {
          "base_uri": "https://localhost:8080/",
          "height": 718
        },
        "id": "1ViLp0-N82FS",
        "outputId": "bd11f38e-3deb-44dc-c040-8cd9c7bfd08a"
      },
      "execution_count": 64,
      "outputs": [
        {
          "output_type": "display_data",
          "data": {
            "text/plain": [
              "<Figure size 1200x800 with 1 Axes>"
            ],
            "image/png": "[encoded data removed]"
          },
          "metadata": {}
        }
      ]
    },
    {
      "cell_type": "code",
      "source": [
        "from sklearn import metrics\n",
        "print(f\"RMSE: {np.sqrt(metrics.mean_squared_error(test_labels, y_pred))}\")\n",
        "print(f\"MAE: {metrics.mean_absolute_error(test_labels, y_pred)}\")\n",
        "print(f\"R2: {metrics.r2_score(test_labels, y_pred)}\")"
      ],
      "metadata": {
        "colab": {
          "base_uri": "https://localhost:8080/"
        },
        "id": "5enr3dvu88JO",
        "outputId": "d573526a-74fa-464e-97d2-81831fd99c06"
      },
      "execution_count": 66,
      "outputs": [
        {
          "output_type": "stream",
          "name": "stdout",
          "text": [
            "RMSE: 6197.438841666302\n",
            "MAE: 5247.939884570575\n",
            "R2: 0.9398430898737059\n"
          ]
        }
      ]
    },
    {
      "cell_type": "code",
      "source": [],
      "metadata": {
        "id": "xgH1oN419MDY"
      },
      "execution_count": null,
      "outputs": []
    }
  ]
}