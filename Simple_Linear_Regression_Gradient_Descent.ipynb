{
  "nbformat": 4,
  "nbformat_minor": 0,
  "metadata": {
    "colab": {
      "provenance": [],
      "toc_visible": true,
      "authorship_tag": "ABX9TyNZNHPElPphUG/EX4dbdj5u",
      "include_colab_link": true
    },
    "kernelspec": {
      "name": "python3",
      "display_name": "Python 3"
    },
    "language_info": {
      "name": "python"
    }
  },
  "cells": [
    {
      "cell_type": "markdown",
      "metadata": {
        "id": "view-in-github",
        "colab_type": "text"
      },
      "source": [
        "<a href=\"https://colab.research.google.com/github/SHIFAT-Arman/Machine-Learning/blob/main/Simple_Linear_Regression_Gradient_Descent.ipynb\" target=\"_parent\"><img src=\"https://colab.research.google.com/assets/colab-badge.svg\" alt=\"Open In Colab\"/></a>"
      ]
    },
    {
      "cell_type": "code",
      "execution_count": 56,
      "metadata": {
        "id": "mckb1AIWUIbz"
      },
      "outputs": [],
      "source": [
        "import numpy as np\n",
        "import pandas as pd\n",
        "import matplotlib.pyplot as plt"
      ]
    },
    {
      "cell_type": "markdown",
      "source": [
        "## Importing Data"
      ],
      "metadata": {
        "id": "ftZXWauyp5aF"
      }
    },
    {
      "cell_type": "code",
      "source": [
        "data = pd.read_csv('/content/Regression_Data.csv')\n",
        "data"
      ],
      "metadata": {
        "colab": {
          "base_uri": "https://localhost:8080/",
          "height": 990
        },
        "id": "R5fzvk8Ep4nw",
        "outputId": "d5f9b71c-88af-4e5e-f7e3-a2d2ffd796d1"
      },
      "execution_count": 57,
      "outputs": [
        {
          "output_type": "execute_result",
          "data": {
            "text/plain": [
              "    Ind_Data  Dependent_Data\n",
              "0        1.1           39343\n",
              "1        1.3           46205\n",
              "2        1.5           37731\n",
              "3        2.0           43525\n",
              "4        2.2           39891\n",
              "5        2.9           56642\n",
              "6        3.0           60150\n",
              "7        3.2           54445\n",
              "8        3.2           64445\n",
              "9        3.7           57189\n",
              "10       3.9           63218\n",
              "11       4.0           55794\n",
              "12       4.0           56957\n",
              "13       4.1           57081\n",
              "14       4.5           61111\n",
              "15       4.9           67938\n",
              "16       5.1           66029\n",
              "17       5.3           83088\n",
              "18       5.9           81363\n",
              "19       6.0           93940\n",
              "20       6.8           91738\n",
              "21       7.1           98273\n",
              "22       7.9          101302\n",
              "23       8.2          113812\n",
              "24       8.7          109431\n",
              "25       9.0          105582\n",
              "26       9.5          116969\n",
              "27       9.6          112635\n",
              "28      10.3          122391\n",
              "29      10.5          121872"
            ],
            "text/html": [
              "\n",
              "  <div id=\"df-4642a3e7-48a0-4d8d-a41c-df3073f592b8\" class=\"colab-df-container\">\n",
              "    <div>\n",
              "<style scoped>\n",
              "    .dataframe tbody tr th:only-of-type {\n",
              "        vertical-align: middle;\n",
              "    }\n",
              "\n",
              "    .dataframe tbody tr th {\n",
              "        vertical-align: top;\n",
              "    }\n",
              "\n",
              "    .dataframe thead th {\n",
              "        text-align: right;\n",
              "    }\n",
              "</style>\n",
              "<table border=\"1\" class=\"dataframe\">\n",
              "  <thead>\n",
              "    <tr style=\"text-align: right;\">\n",
              "      <th></th>\n",
              "      <th>Ind_Data</th>\n",
              "      <th>Dependent_Data</th>\n",
              "    </tr>\n",
              "  </thead>\n",
              "  <tbody>\n",
              "    <tr>\n",
              "      <th>0</th>\n",
              "      <td>1.1</td>\n",
              "      <td>39343</td>\n",
              "    </tr>\n",
              "    <tr>\n",
              "      <th>1</th>\n",
              "      <td>1.3</td>\n",
              "      <td>46205</td>\n",
              "    </tr>\n",
              "    <tr>\n",
              "      <th>2</th>\n",
              "      <td>1.5</td>\n",
              "      <td>37731</td>\n",
              "    </tr>\n",
              "    <tr>\n",
              "      <th>3</th>\n",
              "      <td>2.0</td>\n",
              "      <td>43525</td>\n",
              "    </tr>\n",
              "    <tr>\n",
              "      <th>4</th>\n",
              "      <td>2.2</td>\n",
              "      <td>39891</td>\n",
              "    </tr>\n",
              "    <tr>\n",
              "      <th>5</th>\n",
              "      <td>2.9</td>\n",
              "      <td>56642</td>\n",
              "    </tr>\n",
              "    <tr>\n",
              "      <th>6</th>\n",
              "      <td>3.0</td>\n",
              "      <td>60150</td>\n",
              "    </tr>\n",
              "    <tr>\n",
              "      <th>7</th>\n",
              "      <td>3.2</td>\n",
              "      <td>54445</td>\n",
              "    </tr>\n",
              "    <tr>\n",
              "      <th>8</th>\n",
              "      <td>3.2</td>\n",
              "      <td>64445</td>\n",
              "    </tr>\n",
              "    <tr>\n",
              "      <th>9</th>\n",
              "      <td>3.7</td>\n",
              "      <td>57189</td>\n",
              "    </tr>\n",
              "    <tr>\n",
              "      <th>10</th>\n",
              "      <td>3.9</td>\n",
              "      <td>63218</td>\n",
              "    </tr>\n",
              "    <tr>\n",
              "      <th>11</th>\n",
              "      <td>4.0</td>\n",
              "      <td>55794</td>\n",
              "    </tr>\n",
              "    <tr>\n",
              "      <th>12</th>\n",
              "      <td>4.0</td>\n",
              "      <td>56957</td>\n",
              "    </tr>\n",
              "    <tr>\n",
              "      <th>13</th>\n",
              "      <td>4.1</td>\n",
              "      <td>57081</td>\n",
              "    </tr>\n",
              "    <tr>\n",
              "      <th>14</th>\n",
              "      <td>4.5</td>\n",
              "      <td>61111</td>\n",
              "    </tr>\n",
              "    <tr>\n",
              "      <th>15</th>\n",
              "      <td>4.9</td>\n",
              "      <td>67938</td>\n",
              "    </tr>\n",
              "    <tr>\n",
              "      <th>16</th>\n",
              "      <td>5.1</td>\n",
              "      <td>66029</td>\n",
              "    </tr>\n",
              "    <tr>\n",
              "      <th>17</th>\n",
              "      <td>5.3</td>\n",
              "      <td>83088</td>\n",
              "    </tr>\n",
              "    <tr>\n",
              "      <th>18</th>\n",
              "      <td>5.9</td>\n",
              "      <td>81363</td>\n",
              "    </tr>\n",
              "    <tr>\n",
              "      <th>19</th>\n",
              "      <td>6.0</td>\n",
              "      <td>93940</td>\n",
              "    </tr>\n",
              "    <tr>\n",
              "      <th>20</th>\n",
              "      <td>6.8</td>\n",
              "      <td>91738</td>\n",
              "    </tr>\n",
              "    <tr>\n",
              "      <th>21</th>\n",
              "      <td>7.1</td>\n",
              "      <td>98273</td>\n",
              "    </tr>\n",
              "    <tr>\n",
              "      <th>22</th>\n",
              "      <td>7.9</td>\n",
              "      <td>101302</td>\n",
              "    </tr>\n",
              "    <tr>\n",
              "      <th>23</th>\n",
              "      <td>8.2</td>\n",
              "      <td>113812</td>\n",
              "    </tr>\n",
              "    <tr>\n",
              "      <th>24</th>\n",
              "      <td>8.7</td>\n",
              "      <td>109431</td>\n",
              "    </tr>\n",
              "    <tr>\n",
              "      <th>25</th>\n",
              "      <td>9.0</td>\n",
              "      <td>105582</td>\n",
              "    </tr>\n",
              "    <tr>\n",
              "      <th>26</th>\n",
              "      <td>9.5</td>\n",
              "      <td>116969</td>\n",
              "    </tr>\n",
              "    <tr>\n",
              "      <th>27</th>\n",
              "      <td>9.6</td>\n",
              "      <td>112635</td>\n",
              "    </tr>\n",
              "    <tr>\n",
              "      <th>28</th>\n",
              "      <td>10.3</td>\n",
              "      <td>122391</td>\n",
              "    </tr>\n",
              "    <tr>\n",
              "      <th>29</th>\n",
              "      <td>10.5</td>\n",
              "      <td>121872</td>\n",
              "    </tr>\n",
              "  </tbody>\n",
              "</table>\n",
              "</div>\n",
              "    <div class=\"colab-df-buttons\">\n",
              "\n",
              "  <div class=\"colab-df-container\">\n",
              "    <button class=\"colab-df-convert\" onclick=\"convertToInteractive('df-4642a3e7-48a0-4d8d-a41c-df3073f592b8')\"\n",
              "            title=\"Convert this dataframe to an interactive table.\"\n",
              "            style=\"display:none;\">\n",
              "\n",
              "  <svg xmlns=\"http://www.w3.org/2000/svg\" height=\"24px\" viewBox=\"0 -960 960 960\">\n",
              "    <path d=\"M120-120v-720h720v720H120Zm60-500h600v-160H180v160Zm220 220h160v-160H400v160Zm0 220h160v-160H400v160ZM180-400h160v-160H180v160Zm440 0h160v-160H620v160ZM180-180h160v-160H180v160Zm440 0h160v-160H620v160Z\"/>\n",
              "  </svg>\n",
              "    </button>\n",
              "\n",
              "  <style>\n",
              "    .colab-df-container {\n",
              "      display:flex;\n",
              "      gap: 12px;\n",
              "    }\n",
              "\n",
              "    .colab-df-convert {\n",
              "      background-color: #E8F0FE;\n",
              "      border: none;\n",
              "      border-radius: 50%;\n",
              "      cursor: pointer;\n",
              "      display: none;\n",
              "      fill: #1967D2;\n",
              "      height: 32px;\n",
              "      padding: 0 0 0 0;\n",
              "      width: 32px;\n",
              "    }\n",
              "\n",
              "    .colab-df-convert:hover {\n",
              "      background-color: #E2EBFA;\n",
              "      box-shadow: 0px 1px 2px rgba(60, 64, 67, 0.3), 0px 1px 3px 1px rgba(60, 64, 67, 0.15);\n",
              "      fill: #174EA6;\n",
              "    }\n",
              "\n",
              "    .colab-df-buttons div {\n",
              "      margin-bottom: 4px;\n",
              "    }\n",
              "\n",
              "    [theme=dark] .colab-df-convert {\n",
              "      background-color: #3B4455;\n",
              "      fill: #D2E3FC;\n",
              "    }\n",
              "\n",
              "    [theme=dark] .colab-df-convert:hover {\n",
              "      background-color: #434B5C;\n",
              "      box-shadow: 0px 1px 3px 1px rgba(0, 0, 0, 0.15);\n",
              "      filter: drop-shadow(0px 1px 2px rgba(0, 0, 0, 0.3));\n",
              "      fill: #FFFFFF;\n",
              "    }\n",
              "  </style>\n",
              "\n",
              "    <script>\n",
              "      const buttonEl =\n",
              "        document.querySelector('#df-4642a3e7-48a0-4d8d-a41c-df3073f592b8 button.colab-df-convert');\n",
              "      buttonEl.style.display =\n",
              "        google.colab.kernel.accessAllowed ? 'block' : 'none';\n",
              "\n",
              "      async function convertToInteractive(key) {\n",
              "        const element = document.querySelector('#df-4642a3e7-48a0-4d8d-a41c-df3073f592b8');\n",
              "        const dataTable =\n",
              "          await google.colab.kernel.invokeFunction('convertToInteractive',\n",
              "                                                    [key], {});\n",
              "        if (!dataTable) return;\n",
              "\n",
              "        const docLinkHtml = 'Like what you see? Visit the ' +\n",
              "          '<a target=\"_blank\" href=https://colab.research.google.com/notebooks/data_table.ipynb>data table notebook</a>'\n",
              "          + ' to learn more about interactive tables.';\n",
              "        element.innerHTML = '';\n",
              "        dataTable['output_type'] = 'display_data';\n",
              "        await google.colab.output.renderOutput(dataTable, element);\n",
              "        const docLink = document.createElement('div');\n",
              "        docLink.innerHTML = docLinkHtml;\n",
              "        element.appendChild(docLink);\n",
              "      }\n",
              "    </script>\n",
              "  </div>\n",
              "\n",
              "\n",
              "    <div id=\"df-cd124f83-1708-4707-bc15-1a86d7a40017\">\n",
              "      <button class=\"colab-df-quickchart\" onclick=\"quickchart('df-cd124f83-1708-4707-bc15-1a86d7a40017')\"\n",
              "                title=\"Suggest charts\"\n",
              "                style=\"display:none;\">\n",
              "\n",
              "<svg xmlns=\"http://www.w3.org/2000/svg\" height=\"24px\"viewBox=\"0 0 24 24\"\n",
              "     width=\"24px\">\n",
              "    <g>\n",
              "        <path d=\"M19 3H5c-1.1 0-2 .9-2 2v14c0 1.1.9 2 2 2h14c1.1 0 2-.9 2-2V5c0-1.1-.9-2-2-2zM9 17H7v-7h2v7zm4 0h-2V7h2v10zm4 0h-2v-4h2v4z\"/>\n",
              "    </g>\n",
              "</svg>\n",
              "      </button>\n",
              "\n",
              "<style>\n",
              "  .colab-df-quickchart {\n",
              "      --bg-color: #E8F0FE;\n",
              "      --fill-color: #1967D2;\n",
              "      --hover-bg-color: #E2EBFA;\n",
              "      --hover-fill-color: #174EA6;\n",
              "      --disabled-fill-color: #AAA;\n",
              "      --disabled-bg-color: #DDD;\n",
              "  }\n",
              "\n",
              "  [theme=dark] .colab-df-quickchart {\n",
              "      --bg-color: #3B4455;\n",
              "      --fill-color: #D2E3FC;\n",
              "      --hover-bg-color: #434B5C;\n",
              "      --hover-fill-color: #FFFFFF;\n",
              "      --disabled-bg-color: #3B4455;\n",
              "      --disabled-fill-color: #666;\n",
              "  }\n",
              "\n",
              "  .colab-df-quickchart {\n",
              "    background-color: var(--bg-color);\n",
              "    border: none;\n",
              "    border-radius: 50%;\n",
              "    cursor: pointer;\n",
              "    display: none;\n",
              "    fill: var(--fill-color);\n",
              "    height: 32px;\n",
              "    padding: 0;\n",
              "    width: 32px;\n",
              "  }\n",
              "\n",
              "  .colab-df-quickchart:hover {\n",
              "    background-color: var(--hover-bg-color);\n",
              "    box-shadow: 0 1px 2px rgba(60, 64, 67, 0.3), 0 1px 3px 1px rgba(60, 64, 67, 0.15);\n",
              "    fill: var(--button-hover-fill-color);\n",
              "  }\n",
              "\n",
              "  .colab-df-quickchart-complete:disabled,\n",
              "  .colab-df-quickchart-complete:disabled:hover {\n",
              "    background-color: var(--disabled-bg-color);\n",
              "    fill: var(--disabled-fill-color);\n",
              "    box-shadow: none;\n",
              "  }\n",
              "\n",
              "  .colab-df-spinner {\n",
              "    border: 2px solid var(--fill-color);\n",
              "    border-color: transparent;\n",
              "    border-bottom-color: var(--fill-color);\n",
              "    animation:\n",
              "      spin 1s steps(1) infinite;\n",
              "  }\n",
              "\n",
              "  @keyframes spin {\n",
              "    0% {\n",
              "      border-color: transparent;\n",
              "      border-bottom-color: var(--fill-color);\n",
              "      border-left-color: var(--fill-color);\n",
              "    }\n",
              "    20% {\n",
              "      border-color: transparent;\n",
              "      border-left-color: var(--fill-color);\n",
              "      border-top-color: var(--fill-color);\n",
              "    }\n",
              "    30% {\n",
              "      border-color: transparent;\n",
              "      border-left-color: var(--fill-color);\n",
              "      border-top-color: var(--fill-color);\n",
              "      border-right-color: var(--fill-color);\n",
              "    }\n",
              "    40% {\n",
              "      border-color: transparent;\n",
              "      border-right-color: var(--fill-color);\n",
              "      border-top-color: var(--fill-color);\n",
              "    }\n",
              "    60% {\n",
              "      border-color: transparent;\n",
              "      border-right-color: var(--fill-color);\n",
              "    }\n",
              "    80% {\n",
              "      border-color: transparent;\n",
              "      border-right-color: var(--fill-color);\n",
              "      border-bottom-color: var(--fill-color);\n",
              "    }\n",
              "    90% {\n",
              "      border-color: transparent;\n",
              "      border-bottom-color: var(--fill-color);\n",
              "    }\n",
              "  }\n",
              "</style>\n",
              "\n",
              "      <script>\n",
              "        async function quickchart(key) {\n",
              "          const quickchartButtonEl =\n",
              "            document.querySelector('#' + key + ' button');\n",
              "          quickchartButtonEl.disabled = true;  // To prevent multiple clicks.\n",
              "          quickchartButtonEl.classList.add('colab-df-spinner');\n",
              "          try {\n",
              "            const charts = await google.colab.kernel.invokeFunction(\n",
              "                'suggestCharts', [key], {});\n",
              "          } catch (error) {\n",
              "            console.error('Error during call to suggestCharts:', error);\n",
              "          }\n",
              "          quickchartButtonEl.classList.remove('colab-df-spinner');\n",
              "          quickchartButtonEl.classList.add('colab-df-quickchart-complete');\n",
              "        }\n",
              "        (() => {\n",
              "          let quickchartButtonEl =\n",
              "            document.querySelector('#df-cd124f83-1708-4707-bc15-1a86d7a40017 button');\n",
              "          quickchartButtonEl.style.display =\n",
              "            google.colab.kernel.accessAllowed ? 'block' : 'none';\n",
              "        })();\n",
              "      </script>\n",
              "    </div>\n",
              "\n",
              "  <div id=\"id_96edf868-795f-4235-be6d-d0c15309aa43\">\n",
              "    <style>\n",
              "      .colab-df-generate {\n",
              "        background-color: #E8F0FE;\n",
              "        border: none;\n",
              "        border-radius: 50%;\n",
              "        cursor: pointer;\n",
              "        display: none;\n",
              "        fill: #1967D2;\n",
              "        height: 32px;\n",
              "        padding: 0 0 0 0;\n",
              "        width: 32px;\n",
              "      }\n",
              "\n",
              "      .colab-df-generate:hover {\n",
              "        background-color: #E2EBFA;\n",
              "        box-shadow: 0px 1px 2px rgba(60, 64, 67, 0.3), 0px 1px 3px 1px rgba(60, 64, 67, 0.15);\n",
              "        fill: #174EA6;\n",
              "      }\n",
              "\n",
              "      [theme=dark] .colab-df-generate {\n",
              "        background-color: #3B4455;\n",
              "        fill: #D2E3FC;\n",
              "      }\n",
              "\n",
              "      [theme=dark] .colab-df-generate:hover {\n",
              "        background-color: #434B5C;\n",
              "        box-shadow: 0px 1px 3px 1px rgba(0, 0, 0, 0.15);\n",
              "        filter: drop-shadow(0px 1px 2px rgba(0, 0, 0, 0.3));\n",
              "        fill: #FFFFFF;\n",
              "      }\n",
              "    </style>\n",
              "    <button class=\"colab-df-generate\" onclick=\"generateWithVariable('data')\"\n",
              "            title=\"Generate code using this dataframe.\"\n",
              "            style=\"display:none;\">\n",
              "\n",
              "  <svg xmlns=\"http://www.w3.org/2000/svg\" height=\"24px\"viewBox=\"0 0 24 24\"\n",
              "       width=\"24px\">\n",
              "    <path d=\"M7,19H8.4L18.45,9,17,7.55,7,17.6ZM5,21V16.75L18.45,3.32a2,2,0,0,1,2.83,0l1.4,1.43a1.91,1.91,0,0,1,.58,1.4,1.91,1.91,0,0,1-.58,1.4L9.25,21ZM18.45,9,17,7.55Zm-12,3A5.31,5.31,0,0,0,4.9,8.1,5.31,5.31,0,0,0,1,6.5,5.31,5.31,0,0,0,4.9,4.9,5.31,5.31,0,0,0,6.5,1,5.31,5.31,0,0,0,8.1,4.9,5.31,5.31,0,0,0,12,6.5,5.46,5.46,0,0,0,6.5,12Z\"/>\n",
              "  </svg>\n",
              "    </button>\n",
              "    <script>\n",
              "      (() => {\n",
              "      const buttonEl =\n",
              "        document.querySelector('#id_96edf868-795f-4235-be6d-d0c15309aa43 button.colab-df-generate');\n",
              "      buttonEl.style.display =\n",
              "        google.colab.kernel.accessAllowed ? 'block' : 'none';\n",
              "\n",
              "      buttonEl.onclick = () => {\n",
              "        google.colab.notebook.generateWithVariable('data');\n",
              "      }\n",
              "      })();\n",
              "    </script>\n",
              "  </div>\n",
              "\n",
              "    </div>\n",
              "  </div>\n"
            ],
            "application/vnd.google.colaboratory.intrinsic+json": {
              "type": "dataframe",
              "variable_name": "data",
              "summary": "{\n  \"name\": \"data\",\n  \"rows\": 30,\n  \"fields\": [\n    {\n      \"column\": \"Ind_Data\",\n      \"properties\": {\n        \"dtype\": \"number\",\n        \"std\": 2.8378881576627184,\n        \"min\": 1.1,\n        \"max\": 10.5,\n        \"num_unique_values\": 28,\n        \"samples\": [\n          3.9,\n          9.6,\n          3.7\n        ],\n        \"semantic_type\": \"\",\n        \"description\": \"\"\n      }\n    },\n    {\n      \"column\": \"Dependent_Data\",\n      \"properties\": {\n        \"dtype\": \"number\",\n        \"std\": 27414,\n        \"min\": 37731,\n        \"max\": 122391,\n        \"num_unique_values\": 30,\n        \"samples\": [\n          112635,\n          67938,\n          113812\n        ],\n        \"semantic_type\": \"\",\n        \"description\": \"\"\n      }\n    }\n  ]\n}"
            }
          },
          "metadata": {},
          "execution_count": 57
        }
      ]
    },
    {
      "cell_type": "markdown",
      "source": [
        "## Extract ID and DD"
      ],
      "metadata": {
        "id": "qL7Z_KCEqPSO"
      }
    },
    {
      "cell_type": "code",
      "source": [
        "X = data.iloc[:,0].values\n",
        "X"
      ],
      "metadata": {
        "colab": {
          "base_uri": "https://localhost:8080/"
        },
        "id": "hHxIqabLqLHx",
        "outputId": "79c10ea8-9328-44a9-bf4c-1fe3e9ffa5b1"
      },
      "execution_count": 58,
      "outputs": [
        {
          "output_type": "execute_result",
          "data": {
            "text/plain": [
              "array([ 1.1,  1.3,  1.5,  2. ,  2.2,  2.9,  3. ,  3.2,  3.2,  3.7,  3.9,\n",
              "        4. ,  4. ,  4.1,  4.5,  4.9,  5.1,  5.3,  5.9,  6. ,  6.8,  7.1,\n",
              "        7.9,  8.2,  8.7,  9. ,  9.5,  9.6, 10.3, 10.5])"
            ]
          },
          "metadata": {},
          "execution_count": 58
        }
      ]
    },
    {
      "cell_type": "code",
      "source": [
        "y = data.iloc[:,1].values\n",
        "y"
      ],
      "metadata": {
        "colab": {
          "base_uri": "https://localhost:8080/"
        },
        "id": "Pkscr1geqZhW",
        "outputId": "f4b9db55-a47e-44e5-9f04-1cb7aa7c2fcf"
      },
      "execution_count": 59,
      "outputs": [
        {
          "output_type": "execute_result",
          "data": {
            "text/plain": [
              "array([ 39343,  46205,  37731,  43525,  39891,  56642,  60150,  54445,\n",
              "        64445,  57189,  63218,  55794,  56957,  57081,  61111,  67938,\n",
              "        66029,  83088,  81363,  93940,  91738,  98273, 101302, 113812,\n",
              "       109431, 105582, 116969, 112635, 122391, 121872])"
            ]
          },
          "metadata": {},
          "execution_count": 59
        }
      ]
    },
    {
      "cell_type": "markdown",
      "source": [
        "### Reshaping"
      ],
      "metadata": {
        "id": "hZYQ-IR3r5CS"
      }
    },
    {
      "cell_type": "code",
      "source": [
        "X = X.reshape(-1,1)\n",
        "y = y.reshape(-1,1)"
      ],
      "metadata": {
        "id": "7RZVA4f5r8OG"
      },
      "execution_count": 60,
      "outputs": []
    },
    {
      "cell_type": "markdown",
      "source": [
        "### Appending ones to the X in first column"
      ],
      "metadata": {
        "id": "KwAmyL1AsFhT"
      }
    },
    {
      "cell_type": "code",
      "source": [
        "ones = np.ones((len(X),1))\n",
        "ones"
      ],
      "metadata": {
        "colab": {
          "base_uri": "https://localhost:8080/"
        },
        "id": "nM7KoUYpsiaI",
        "outputId": "0c5723a8-5088-4657-dd20-21c1492586d1"
      },
      "execution_count": 61,
      "outputs": [
        {
          "output_type": "execute_result",
          "data": {
            "text/plain": [
              "array([[1.],\n",
              "       [1.],\n",
              "       [1.],\n",
              "       [1.],\n",
              "       [1.],\n",
              "       [1.],\n",
              "       [1.],\n",
              "       [1.],\n",
              "       [1.],\n",
              "       [1.],\n",
              "       [1.],\n",
              "       [1.],\n",
              "       [1.],\n",
              "       [1.],\n",
              "       [1.],\n",
              "       [1.],\n",
              "       [1.],\n",
              "       [1.],\n",
              "       [1.],\n",
              "       [1.],\n",
              "       [1.],\n",
              "       [1.],\n",
              "       [1.],\n",
              "       [1.],\n",
              "       [1.],\n",
              "       [1.],\n",
              "       [1.],\n",
              "       [1.],\n",
              "       [1.],\n",
              "       [1.]])"
            ]
          },
          "metadata": {},
          "execution_count": 61
        }
      ]
    },
    {
      "cell_type": "code",
      "source": [
        "X_input = np.concatenate((ones,X),axis=1)"
      ],
      "metadata": {
        "id": "V2YZ3j6vsJOj"
      },
      "execution_count": 62,
      "outputs": []
    },
    {
      "cell_type": "code",
      "source": [
        "X_input"
      ],
      "metadata": {
        "colab": {
          "base_uri": "https://localhost:8080/"
        },
        "id": "JAZJLy1NsuoZ",
        "outputId": "ed28951e-4fb5-4c7b-dde2-a84afb388b8d"
      },
      "execution_count": 63,
      "outputs": [
        {
          "output_type": "execute_result",
          "data": {
            "text/plain": [
              "array([[ 1. ,  1.1],\n",
              "       [ 1. ,  1.3],\n",
              "       [ 1. ,  1.5],\n",
              "       [ 1. ,  2. ],\n",
              "       [ 1. ,  2.2],\n",
              "       [ 1. ,  2.9],\n",
              "       [ 1. ,  3. ],\n",
              "       [ 1. ,  3.2],\n",
              "       [ 1. ,  3.2],\n",
              "       [ 1. ,  3.7],\n",
              "       [ 1. ,  3.9],\n",
              "       [ 1. ,  4. ],\n",
              "       [ 1. ,  4. ],\n",
              "       [ 1. ,  4.1],\n",
              "       [ 1. ,  4.5],\n",
              "       [ 1. ,  4.9],\n",
              "       [ 1. ,  5.1],\n",
              "       [ 1. ,  5.3],\n",
              "       [ 1. ,  5.9],\n",
              "       [ 1. ,  6. ],\n",
              "       [ 1. ,  6.8],\n",
              "       [ 1. ,  7.1],\n",
              "       [ 1. ,  7.9],\n",
              "       [ 1. ,  8.2],\n",
              "       [ 1. ,  8.7],\n",
              "       [ 1. ,  9. ],\n",
              "       [ 1. ,  9.5],\n",
              "       [ 1. ,  9.6],\n",
              "       [ 1. , 10.3],\n",
              "       [ 1. , 10.5]])"
            ]
          },
          "metadata": {},
          "execution_count": 63
        }
      ]
    },
    {
      "cell_type": "markdown",
      "source": [
        "## Visualizing Data"
      ],
      "metadata": {
        "id": "7ibSq49vrQuk"
      }
    },
    {
      "cell_type": "code",
      "source": [
        "# prompt: Using dataframe data: scatter plot\n",
        "\n",
        "import altair as alt\n",
        "\n",
        "# Create a scatter plot with 'Ind_Data' on the x-axis and 'Dependent_Data' on the y-axis.\n",
        "chart = alt.Chart(data).mark_point().encode(\n",
        "    x='Ind_Data',\n",
        "    y='Dependent_Data'\n",
        ")\n",
        "\n",
        "# Display the chart.\n",
        "chart"
      ],
      "metadata": {
        "colab": {
          "base_uri": "https://localhost:8080/",
          "height": 364
        },
        "id": "8_ImjnbmrUMO",
        "outputId": "833bad63-5039-4216-d59f-d6b22647c31d"
      },
      "execution_count": 64,
      "outputs": [
        {
          "output_type": "execute_result",
          "data": {
            "text/html": [
              "\n",
              "<style>\n",
              "  #altair-viz-c80b8a364f1a46de855ee34f4add6cc7.vega-embed {\n",
              "    width: 100%;\n",
              "    display: flex;\n",
              "  }\n",
              "\n",
              "  #altair-viz-c80b8a364f1a46de855ee34f4add6cc7.vega-embed details,\n",
              "  #altair-viz-c80b8a364f1a46de855ee34f4add6cc7.vega-embed details summary {\n",
              "    position: relative;\n",
              "  }\n",
              "</style>\n",
              "<div id=\"altair-viz-c80b8a364f1a46de855ee34f4add6cc7\"></div>\n",
              "<script type=\"text/javascript\">\n",
              "  var VEGA_DEBUG = (typeof VEGA_DEBUG == \"undefined\") ? {} : VEGA_DEBUG;\n",
              "  (function(spec, embedOpt){\n",
              "    let outputDiv = document.currentScript.previousElementSibling;\n",
              "    if (outputDiv.id !== \"altair-viz-c80b8a364f1a46de855ee34f4add6cc7\") {\n",
              "      outputDiv = document.getElementById(\"altair-viz-c80b8a364f1a46de855ee34f4add6cc7\");\n",
              "    }\n",
              "\n",
              "    const paths = {\n",
              "      \"vega\": \"https://cdn.jsdelivr.net/npm/vega@5?noext\",\n",
              "      \"vega-lib\": \"https://cdn.jsdelivr.net/npm/vega-lib?noext\",\n",
              "      \"vega-lite\": \"https://cdn.jsdelivr.net/npm/vega-lite@5.20.1?noext\",\n",
              "      \"vega-embed\": \"https://cdn.jsdelivr.net/npm/vega-embed@6?noext\",\n",
              "    };\n",
              "\n",
              "    function maybeLoadScript(lib, version) {\n",
              "      var key = `${lib.replace(\"-\", \"\")}_version`;\n",
              "      return (VEGA_DEBUG[key] == version) ?\n",
              "        Promise.resolve(paths[lib]) :\n",
              "        new Promise(function(resolve, reject) {\n",
              "          var s = document.createElement('script');\n",
              "          document.getElementsByTagName(\"head\")[0].appendChild(s);\n",
              "          s.async = true;\n",
              "          s.onload = () => {\n",
              "            VEGA_DEBUG[key] = version;\n",
              "            return resolve(paths[lib]);\n",
              "          };\n",
              "          s.onerror = () => reject(`Error loading script: ${paths[lib]}`);\n",
              "          s.src = paths[lib];\n",
              "        });\n",
              "    }\n",
              "\n",
              "    function showError(err) {\n",
              "      outputDiv.innerHTML = `<div class=\"error\" style=\"color:red;\">${err}</div>`;\n",
              "      throw err;\n",
              "    }\n",
              "\n",
              "    function displayChart(vegaEmbed) {\n",
              "      vegaEmbed(outputDiv, spec, embedOpt)\n",
              "        .catch(err => showError(`Javascript Error: ${err.message}<br>This usually means there's a typo in your chart specification. See the javascript console for the full traceback.`));\n",
              "    }\n",
              "\n",
              "    if(typeof define === \"function\" && define.amd) {\n",
              "      requirejs.config({paths});\n",
              "      let deps = [\"vega-embed\"];\n",
              "      require(deps, displayChart, err => showError(`Error loading script: ${err.message}`));\n",
              "    } else {\n",
              "      maybeLoadScript(\"vega\", \"5\")\n",
              "        .then(() => maybeLoadScript(\"vega-lite\", \"5.20.1\"))\n",
              "        .then(() => maybeLoadScript(\"vega-embed\", \"6\"))\n",
              "        .catch(showError)\n",
              "        .then(() => displayChart(vegaEmbed));\n",
              "    }\n",
              "  })({\"config\": {\"view\": {\"continuousWidth\": 300, \"continuousHeight\": 300}}, \"data\": {\"name\": \"data-8133880e794967c123f6b3eef3ed0a56\"}, \"mark\": {\"type\": \"point\"}, \"encoding\": {\"x\": {\"field\": \"Ind_Data\", \"type\": \"quantitative\"}, \"y\": {\"field\": \"Dependent_Data\", \"type\": \"quantitative\"}}, \"$schema\": \"https://vega.github.io/schema/vega-lite/v5.20.1.json\", \"datasets\": {\"data-8133880e794967c123f6b3eef3ed0a56\": [{\"Ind_Data\": 1.1, \"Dependent_Data\": 39343}, {\"Ind_Data\": 1.3, \"Dependent_Data\": 46205}, {\"Ind_Data\": 1.5, \"Dependent_Data\": 37731}, {\"Ind_Data\": 2.0, \"Dependent_Data\": 43525}, {\"Ind_Data\": 2.2, \"Dependent_Data\": 39891}, {\"Ind_Data\": 2.9, \"Dependent_Data\": 56642}, {\"Ind_Data\": 3.0, \"Dependent_Data\": 60150}, {\"Ind_Data\": 3.2, \"Dependent_Data\": 54445}, {\"Ind_Data\": 3.2, \"Dependent_Data\": 64445}, {\"Ind_Data\": 3.7, \"Dependent_Data\": 57189}, {\"Ind_Data\": 3.9, \"Dependent_Data\": 63218}, {\"Ind_Data\": 4.0, \"Dependent_Data\": 55794}, {\"Ind_Data\": 4.0, \"Dependent_Data\": 56957}, {\"Ind_Data\": 4.1, \"Dependent_Data\": 57081}, {\"Ind_Data\": 4.5, \"Dependent_Data\": 61111}, {\"Ind_Data\": 4.9, \"Dependent_Data\": 67938}, {\"Ind_Data\": 5.1, \"Dependent_Data\": 66029}, {\"Ind_Data\": 5.3, \"Dependent_Data\": 83088}, {\"Ind_Data\": 5.9, \"Dependent_Data\": 81363}, {\"Ind_Data\": 6.0, \"Dependent_Data\": 93940}, {\"Ind_Data\": 6.8, \"Dependent_Data\": 91738}, {\"Ind_Data\": 7.1, \"Dependent_Data\": 98273}, {\"Ind_Data\": 7.9, \"Dependent_Data\": 101302}, {\"Ind_Data\": 8.2, \"Dependent_Data\": 113812}, {\"Ind_Data\": 8.7, \"Dependent_Data\": 109431}, {\"Ind_Data\": 9.0, \"Dependent_Data\": 105582}, {\"Ind_Data\": 9.5, \"Dependent_Data\": 116969}, {\"Ind_Data\": 9.6, \"Dependent_Data\": 112635}, {\"Ind_Data\": 10.3, \"Dependent_Data\": 122391}, {\"Ind_Data\": 10.5, \"Dependent_Data\": 121872}]}}, {\"mode\": \"vega-lite\"});\n",
              "</script>"
            ],
            "text/plain": [
              "alt.Chart(...)"
            ]
          },
          "metadata": {},
          "execution_count": 64
        }
      ]
    },
    {
      "cell_type": "markdown",
      "source": [
        "## Equation of Gradient Descent\n",
        "![image.png](data:image/png;base64,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)"
      ],
      "metadata": {
        "id": "Gqb8t-l6tb3G"
      }
    },
    {
      "cell_type": "code",
      "source": [
        "weights = np.random.randn(len(X[0])+1,1) # initialize the values of weights"
      ],
      "metadata": {
        "id": "TLMTKYDCrN8o"
      },
      "execution_count": 65,
      "outputs": []
    },
    {
      "cell_type": "code",
      "source": [
        "n = len(X)\n",
        "iterations = 3000\n",
        "learning_rate = 0.01\n",
        "for i in range(iterations):\n",
        "  gradients = -2/n * np.dot(X_input.T,(y - np.dot(X_input,weights))) # gradient calculation\n",
        "  weights = weights - learning_rate * gradients # updation of weight"
      ],
      "metadata": {
        "id": "OGWCuQomuI2C"
      },
      "execution_count": 66,
      "outputs": []
    },
    {
      "cell_type": "code",
      "source": [
        "weights"
      ],
      "metadata": {
        "colab": {
          "base_uri": "https://localhost:8080/"
        },
        "id": "HkhNNU8SvTnO",
        "outputId": "750106d6-7a57-48c6-c115-0f18ae23f752"
      },
      "execution_count": 67,
      "outputs": [
        {
          "output_type": "execute_result",
          "data": {
            "text/plain": [
              "array([[25792.12871365],\n",
              "       [ 9449.97292953]])"
            ]
          },
          "metadata": {},
          "execution_count": 67
        }
      ]
    },
    {
      "cell_type": "markdown",
      "source": [
        "## Testing and Evaluation of the model"
      ],
      "metadata": {
        "id": "Rx23YV6dvxZM"
      }
    },
    {
      "cell_type": "code",
      "source": [
        "test_data = np.linspace(0,11,30).reshape(-1,1)"
      ],
      "metadata": {
        "id": "ZJEk_33mvcxo"
      },
      "execution_count": 68,
      "outputs": []
    },
    {
      "cell_type": "code",
      "source": [
        "ones = np.ones(len(test_data)).reshape(-1,1)"
      ],
      "metadata": {
        "id": "f2q8-YuVv6BI"
      },
      "execution_count": 69,
      "outputs": []
    },
    {
      "cell_type": "code",
      "source": [
        "X_test = np.concatenate((ones,test_data),axis=1)"
      ],
      "metadata": {
        "id": "afaUjYelwBbc"
      },
      "execution_count": 70,
      "outputs": []
    },
    {
      "cell_type": "code",
      "source": [
        "X_test"
      ],
      "metadata": {
        "colab": {
          "base_uri": "https://localhost:8080/"
        },
        "id": "csSd5RsdwUV1",
        "outputId": "e27e8c34-f60d-4b54-c6d6-ca5c36eaabea"
      },
      "execution_count": 71,
      "outputs": [
        {
          "output_type": "execute_result",
          "data": {
            "text/plain": [
              "array([[ 1.        ,  0.        ],\n",
              "       [ 1.        ,  0.37931034],\n",
              "       [ 1.        ,  0.75862069],\n",
              "       [ 1.        ,  1.13793103],\n",
              "       [ 1.        ,  1.51724138],\n",
              "       [ 1.        ,  1.89655172],\n",
              "       [ 1.        ,  2.27586207],\n",
              "       [ 1.        ,  2.65517241],\n",
              "       [ 1.        ,  3.03448276],\n",
              "       [ 1.        ,  3.4137931 ],\n",
              "       [ 1.        ,  3.79310345],\n",
              "       [ 1.        ,  4.17241379],\n",
              "       [ 1.        ,  4.55172414],\n",
              "       [ 1.        ,  4.93103448],\n",
              "       [ 1.        ,  5.31034483],\n",
              "       [ 1.        ,  5.68965517],\n",
              "       [ 1.        ,  6.06896552],\n",
              "       [ 1.        ,  6.44827586],\n",
              "       [ 1.        ,  6.82758621],\n",
              "       [ 1.        ,  7.20689655],\n",
              "       [ 1.        ,  7.5862069 ],\n",
              "       [ 1.        ,  7.96551724],\n",
              "       [ 1.        ,  8.34482759],\n",
              "       [ 1.        ,  8.72413793],\n",
              "       [ 1.        ,  9.10344828],\n",
              "       [ 1.        ,  9.48275862],\n",
              "       [ 1.        ,  9.86206897],\n",
              "       [ 1.        , 10.24137931],\n",
              "       [ 1.        , 10.62068966],\n",
              "       [ 1.        , 11.        ]])"
            ]
          },
          "metadata": {},
          "execution_count": 71
        }
      ]
    },
    {
      "cell_type": "code",
      "source": [
        "y_test = np.linspace(np.min(y), np.max(y),30)"
      ],
      "metadata": {
        "id": "1Q86KIQzwVD7"
      },
      "execution_count": 72,
      "outputs": []
    },
    {
      "cell_type": "code",
      "source": [
        "y_pred = np.dot(X_test, weights)"
      ],
      "metadata": {
        "id": "dBzZ5NFlwqck"
      },
      "execution_count": 73,
      "outputs": []
    },
    {
      "cell_type": "markdown",
      "source": [
        "## Visualize the model Performance"
      ],
      "metadata": {
        "id": "FJC87BePw0xo"
      }
    },
    {
      "cell_type": "code",
      "source": [
        "plt.plot(test_data, y_pred, color='blue', label='Predicted values')\n",
        "plt.scatter(X,y, color='red', label='Actual values')\n",
        "plt.xlabel('Independednt')\n",
        "plt.ylabel('Dependent')\n",
        "plt.show()"
      ],
      "metadata": {
        "colab": {
          "base_uri": "https://localhost:8080/",
          "height": 449
        },
        "id": "VFpBSphjwypz",
        "outputId": "afebaaa2-393d-4dcf-dde2-736a27e7ed58"
      },
      "execution_count": 74,
      "outputs": [
        {
          "output_type": "display_data",
          "data": {
            "text/plain": [
              "<Figure size 640x480 with 1 Axes>"
            ],
            "image/png": "[encoded data removed]"
          },
          "metadata": {}
        }
      ]
    },
    {
      "cell_type": "markdown",
      "source": [
        "## Evaluating with metrices"
      ],
      "metadata": {
        "id": "UVvwuEUyxrbq"
      }
    },
    {
      "cell_type": "code",
      "source": [
        "from sklearn import metrics\n",
        "print(f\"RMSE: {np.sqrt(metrics.mean_absolute_error(y_test,y_pred))}\")\n",
        "print(f\"MAE: {metrics.mean_absolute_error(y_test, y_pred)}\")\n",
        "print(f\"R2: {metrics.r2_score(y_test,y_pred)}\")"
      ],
      "metadata": {
        "colab": {
          "base_uri": "https://localhost:8080/"
        },
        "id": "pAg-4yAOw6c1",
        "outputId": "6cd6a43a-d50e-4d25-92aa-075ea7e06571"
      },
      "execution_count": 75,
      "outputs": [
        {
          "output_type": "stream",
          "name": "stdout",
          "text": [
            "RMSE: 72.44288428626831\n",
            "MAE: 5247.97148371366\n",
            "R2: 0.9398423673479994\n"
          ]
        }
      ]
    },
    {
      "cell_type": "code",
      "source": [],
      "metadata": {
        "id": "V0LRJuJ0yMIB"
      },
      "execution_count": 75,
      "outputs": []
    }
  ]
}