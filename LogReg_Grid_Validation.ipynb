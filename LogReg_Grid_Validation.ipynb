{
  "nbformat": 4,
  "nbformat_minor": 0,
  "metadata": {
    "colab": {
      "provenance": [],
      "authorship_tag": "ABX9TyOaihZfPP/gjZOyzFL9F6aP",
      "include_colab_link": true
    },
    "kernelspec": {
      "name": "python3",
      "display_name": "Python 3"
    },
    "language_info": {
      "name": "python"
    }
  },
  "cells": [
    {
      "cell_type": "markdown",
      "metadata": {
        "id": "view-in-github",
        "colab_type": "text"
      },
      "source": [
        "<a href=\"https://colab.research.google.com/github/SHIFAT-Arman/Machine-Learning/blob/log-reg/LogReg_Grid_Validation.ipynb\" target=\"_parent\"><img src=\"https://colab.research.google.com/assets/colab-badge.svg\" alt=\"Open In Colab\"/></a>"
      ]
    },
    {
      "cell_type": "code",
      "execution_count": 11,
      "metadata": {
        "id": "dhhXpPRYk8N_"
      },
      "outputs": [],
      "source": [
        "import numpy as np\n",
        "import pandas as pd\n",
        "from sklearn.datasets import make_classification\n",
        "from sklearn.linear_model import LogisticRegression\n",
        "from sklearn.model_selection import train_test_split\n",
        "import matplotlib.pyplot as plt\n",
        "import seaborn as sns"
      ]
    },
    {
      "cell_type": "markdown",
      "source": [
        "# Creating a dataset"
      ],
      "metadata": {
        "id": "JPxxtgNBlGc4"
      }
    },
    {
      "cell_type": "code",
      "source": [
        "X, y = make_classification(n_samples=500,\n",
        "                           n_features=2,\n",
        "                           n_informative=2,\n",
        "                           n_redundant=0,\n",
        "                           n_classes=2, random_state=42)\n",
        "X.shape"
      ],
      "metadata": {
        "colab": {
          "base_uri": "https://localhost:8080/"
        },
        "id": "TTudUdbSlHuj",
        "outputId": "5f576e61-e171-485c-d9e2-b1b34397a829"
      },
      "execution_count": 12,
      "outputs": [
        {
          "output_type": "execute_result",
          "data": {
            "text/plain": [
              "(500, 2)"
            ]
          },
          "metadata": {},
          "execution_count": 12
        }
      ]
    },
    {
      "cell_type": "markdown",
      "source": [
        "# Train Test Split"
      ],
      "metadata": {
        "id": "RKzleU5xlX3N"
      }
    },
    {
      "cell_type": "code",
      "source": [
        "X_train, X_test, y_train, y_test = train_test_split(X, y, test_size=0.2, random_state=42)"
      ],
      "metadata": {
        "id": "9me9ohBylWBx"
      },
      "execution_count": 13,
      "outputs": []
    },
    {
      "cell_type": "code",
      "source": [
        "X_train.shape"
      ],
      "metadata": {
        "colab": {
          "base_uri": "https://localhost:8080/"
        },
        "id": "eCKq5_zblcFs",
        "outputId": "c1f0788a-f366-493c-96cf-6df5bc69ce43"
      },
      "execution_count": 14,
      "outputs": [
        {
          "output_type": "execute_result",
          "data": {
            "text/plain": [
              "(400, 2)"
            ]
          },
          "metadata": {},
          "execution_count": 14
        }
      ]
    },
    {
      "cell_type": "markdown",
      "source": [
        "# Applying Grid Search with Cross Validation"
      ],
      "metadata": {
        "id": "MpyVfamxlf4u"
      }
    },
    {
      "cell_type": "code",
      "source": [
        "logreg = LogisticRegression()"
      ],
      "metadata": {
        "id": "4Iybk0h3ldh3"
      },
      "execution_count": 15,
      "outputs": []
    },
    {
      "cell_type": "code",
      "source": [
        "# help(logreg)"
      ],
      "metadata": {
        "id": "CQL6WtLlllzv"
      },
      "execution_count": 16,
      "outputs": []
    },
    {
      "cell_type": "markdown",
      "source": [
        "- tol = tolerance\n",
        "- c = regularization/ inverse proportionality of lambda\n",
        "- solver = optimization method"
      ],
      "metadata": {
        "id": "27tu9CYuoBMJ"
      }
    },
    {
      "cell_type": "code",
      "source": [
        "from sklearn.model_selection import GridSearchCV\n",
        "model = LogisticRegression()\n",
        "params = {\"fit_intercept\": [True, False], \"penalty\" : ['l1', 'l2'],\n",
        "          \"max_iter\": [100,1000,10000,100000, 1000000], \"C\": [0.2, 0.25, 0.5, 1, 2, 3, 4, 5],\n",
        "          \"tol\" : [0.1, 0.01, 0.001, 0.0001],\n",
        "           \"solver\" : ['saga', 'liblinear']}\n",
        "LR_GS = GridSearchCV(model, param_grid = params, n_jobs = -1, cv = 5)\n",
        "model_GSCV = LR_GS.fit(X_train,y_train)\n",
        "model_GSCV.best_params_"
      ],
      "metadata": {
        "colab": {
          "base_uri": "https://localhost:8080/"
        },
        "id": "4F5d7vSQlne9",
        "outputId": "12f74380-01ca-4395-c4f6-b9c7f6feeb44"
      },
      "execution_count": 17,
      "outputs": [
        {
          "output_type": "execute_result",
          "data": {
            "text/plain": [
              "{'C': 5,\n",
              " 'fit_intercept': True,\n",
              " 'max_iter': 1000000,\n",
              " 'penalty': 'l2',\n",
              " 'solver': 'saga',\n",
              " 'tol': 0.1}"
            ]
          },
          "metadata": {},
          "execution_count": 17
        }
      ]
    },
    {
      "cell_type": "code",
      "source": [
        "y_pred_CV = model_GSCV.predict(X_test)"
      ],
      "metadata": {
        "id": "J2CNkkTwl94a"
      },
      "execution_count": 18,
      "outputs": []
    },
    {
      "cell_type": "markdown",
      "source": [
        "# Print Classification Report"
      ],
      "metadata": {
        "id": "oH6CoYSoqXmV"
      }
    },
    {
      "cell_type": "code",
      "source": [
        "from sklearn.metrics import classification_report\n",
        "print(classification_report(y_test, y_pred_CV))"
      ],
      "metadata": {
        "colab": {
          "base_uri": "https://localhost:8080/"
        },
        "id": "cuiaLf_3qWkI",
        "outputId": "0cc0c4d4-b882-4b19-9a6b-a6154ba446df"
      },
      "execution_count": 19,
      "outputs": [
        {
          "output_type": "stream",
          "name": "stdout",
          "text": [
            "              precision    recall  f1-score   support\n",
            "\n",
            "           0       0.91      0.86      0.89        50\n",
            "           1       0.87      0.92      0.89        50\n",
            "\n",
            "    accuracy                           0.89       100\n",
            "   macro avg       0.89      0.89      0.89       100\n",
            "weighted avg       0.89      0.89      0.89       100\n",
            "\n"
          ]
        }
      ]
    },
    {
      "cell_type": "code",
      "source": [
        "from sklearn.metrics import RocCurveDisplay\n",
        "fig, ax = plt.subplots(1,1)\n",
        "RocCurveDisplay.from_predictions(y_test, y_pred_CV, drop_intermediate=False, ax=ax)\n",
        "plt.show()"
      ],
      "metadata": {
        "colab": {
          "base_uri": "https://localhost:8080/",
          "height": 451
        },
        "id": "smcs4em5qbSQ",
        "outputId": "37b5074d-5ac4-4578-c4ec-42729af917fa"
      },
      "execution_count": 20,
      "outputs": [
        {
          "output_type": "display_data",
          "data": {
            "text/plain": [
              "<Figure size 640x480 with 1 Axes>"
            ],
            "image/png": "[encoded data removed]"
          },
          "metadata": {}
        }
      ]
    },
    {
      "cell_type": "code",
      "source": [],
      "metadata": {
        "id": "_DQt5_lHqxwK"
      },
      "execution_count": null,
      "outputs": []
    }
  ]
}